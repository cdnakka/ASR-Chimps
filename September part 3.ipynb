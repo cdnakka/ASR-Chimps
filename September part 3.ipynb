{
 "cells": [
  {
   "cell_type": "markdown",
   "metadata": {},
   "source": [
    "## Model overfits and does not generalize well to chimp calls outside the dataset\n",
    "\n",
    "### Augmentation \n",
    "\n",
    "Create the augmented files and extract mfccs"
   ]
  },
  {
   "cell_type": "code",
   "execution_count": 1,
   "metadata": {},
   "outputs": [
    {
     "name": "stderr",
     "output_type": "stream",
     "text": [
      "d:\\installfiles\\python\\python37\\lib\\site-packages\\pydub\\utils.py:165: RuntimeWarning: Couldn't find ffmpeg or avconv - defaulting to ffmpeg, but may not work\n",
      "  warn(\"Couldn't find ffmpeg or avconv - defaulting to ffmpeg, but may not work\", RuntimeWarning)\n"
     ]
    }
   ],
   "source": [
    "# required\n",
    "import pandas as pd\n",
    "import numpy as np\n",
    "import matplotlib.pyplot as plt\n",
    "import os\n",
    "import struct\n",
    "import librosa\n",
    "import librosa.display\n",
    "import soundfile as sf\n",
    "from scipy.io import wavfile as wav\n",
    "import IPython.display as ipd\n",
    "import gammatone\n",
    "import feature_utils\n",
    "import pickle\n",
    "import timeit\n",
    "import random\n",
    "from pydub import AudioSegment"
   ]
  },
  {
   "cell_type": "code",
   "execution_count": 2,
   "metadata": {},
   "outputs": [],
   "source": [
    "# required \n",
    "def getListOfFiles(dirpath):\n",
    "    # create a list of file and sub directories \n",
    "    # names in the given directory \n",
    "    listOfFile = os.listdir(dirpath)\n",
    "    allFiles = list()\n",
    "    # Iterate over all the entries\n",
    "    for entry in listOfFile:\n",
    "        # Create full path\n",
    "        fullPath = os.path.join(dirpath, entry)\n",
    "        # If entry is a directory then get the list of files in this directory \n",
    "        if os.path.isdir(fullPath):\n",
    "            allFiles = allFiles + getListOfFiles(fullPath)\n",
    "        else:\n",
    "            allFiles.append(fullPath)        \n",
    "    \n",
    "    return allFiles\n",
    "\n",
    "def urban_labels(Y, fpaths):\n",
    "    \"\"\"urban sound dataset labels.\"\"\"\n",
    "    urban_label = lambda path: int(os.path.split(path)[-1].split('-')[1])\n",
    "    for p in fpaths:\n",
    "        Y = np.append(Y, [urban_label(p)])\n",
    "    return Y"
   ]
  },
  {
   "cell_type": "code",
   "execution_count": 3,
   "metadata": {},
   "outputs": [
    {
     "name": "stdout",
     "output_type": "stream",
     "text": [
      "No of entries in our Dataset:  (9542,)\n",
      "Labels :  (9542,)\n"
     ]
    }
   ],
   "source": [
    "#required\n",
    "#path to the converted files\n",
    "DATASET_16BIT_PATH = \"E:/ChanuThesis/ProcessedSounds/UrbanSound8K-16bit/audioclassified\"\n",
    "AMP_NORMALIZED_PATH = \"E:\\ChanuThesis\\ASR-Chimps-master\\ASR-Chimps-master\\Amplitude_normalized\"\n",
    "\n",
    "filepaths = np.asarray(getListOfFiles(AMP_NORMALIZED_PATH))\n",
    "print(\"No of entries in our Dataset: \", filepaths.shape)\n",
    "\n",
    "Y = np.ndarray(0)\n",
    "labels = urban_labels(Y, filepaths)\n",
    "print(\"Labels : \",labels.shape)\n",
    "\n",
    "with open(\"filepaths.txt\", \"wb\") as fp:   #Pickling\n",
    "    pickle.dump(filepaths, fp)\n",
    "    \n",
    "with open(\"labels.txt\", \"wb\") as fp:   #Pickling\n",
    "    pickle.dump(labels, fp)"
   ]
  },
  {
   "cell_type": "code",
   "execution_count": 9,
   "metadata": {},
   "outputs": [],
   "source": [
    "sound = AudioSegment.from_file(filepaths[4], \"wav\")"
   ]
  },
  {
   "cell_type": "code",
   "execution_count": 8,
   "metadata": {},
   "outputs": [
    {
     "data": {
      "text/plain": [
       "-30.17112454023635"
      ]
     },
     "execution_count": 8,
     "metadata": {},
     "output_type": "execute_result"
    }
   ],
   "source": [
    "sound.dBFS"
   ]
  },
  {
   "cell_type": "code",
   "execution_count": 9,
   "metadata": {},
   "outputs": [],
   "source": [
    "#Getting average amplitude of all files to normalize\n",
    "# required\n",
    "Amplitudes = []\n",
    "\n",
    "for i in range(len(filepaths)):\n",
    "#for i in range(len(filepaths)):\n",
    "    sound = AudioSegment.from_file(filepaths[i], 'wav')\n",
    "    Amplitudes.append(sound.dBFS)\n",
    "\n",
    "\n",
    "target_amplitude = sum(Amplitudes)/len(Amplitudes)"
   ]
  },
  {
   "cell_type": "code",
   "execution_count": 4,
   "metadata": {},
   "outputs": [],
   "source": [
    "target_amplitude = -30.212114862008875"
   ]
  },
  {
   "cell_type": "code",
   "execution_count": 7,
   "metadata": {},
   "outputs": [],
   "source": [
    "def match_target_amplitude(sound, target_dBFS):\n",
    "    change_in_dBFS = target_dBFS - sound.dBFS\n",
    "    return sound.apply_gain(change_in_dBFS)\n",
    "\n"
   ]
  },
  {
   "cell_type": "code",
   "execution_count": 9,
   "metadata": {},
   "outputs": [],
   "source": [
    "# SRC_PATH = \"E:/ChanuThesis/Raw sounds/Chimp_Youtube_4 sec chunks-20190926T031337Z-001/Chimp_youtube_11kSR_16bit_mono\"\n",
    "# DST_PATH = \"E:/ChanuThesis/Raw sounds/Chimp_Youtube_4 sec chunks-20190926T031337Z-001/Amplitude_normalized\"\n",
    "# filepaths = np.asarray(getListOfFiles(SRC_PATH))\n",
    "\n",
    "\n"
   ]
  },
  {
   "cell_type": "code",
   "execution_count": 11,
   "metadata": {},
   "outputs": [],
   "source": [
    "# for i in range(len(filepaths)):\n",
    "#     sound = AudioSegment.from_file(filepaths[i], \"wav\")\n",
    "#     normalized_sound = match_target_amplitude(sound, target_amplitude)\n",
    "#     normalized_sound.export(os.path.join(DST_PATH,os.path.basename(os.path.normpath(filepaths[i]))) , format=\"wav\")\n",
    "    "
   ]
  },
  {
   "cell_type": "code",
   "execution_count": 42,
   "metadata": {},
   "outputs": [
    {
     "name": "stdout",
     "output_type": "stream",
     "text": [
      "0.002\n"
     ]
    }
   ],
   "source": []
  },
  {
   "cell_type": "code",
   "execution_count": 10,
   "metadata": {},
   "outputs": [],
   "source": [
    "import nlpaug.augmenter.audio as naa\n",
    "\n",
    "def augmentation(data):\n",
    "    \n",
    "\n",
    "    #change loudness by a random factor between 0.5 and 2\n",
    "    i = random.randint(0,1)\n",
    "    if i == 1:\n",
    "        aug1 = naa.LoudnessAug(loudness_factor=(0.5, 2))\n",
    "        data = aug1.augment(data)\n",
    "    \n",
    "    #add noise\n",
    "    i = random.randint(0,1)\n",
    "    if i == 1:\n",
    "        aug2 = naa.NoiseAug(noise_factor=round(random.uniform(0.001, 0.01), 3))\n",
    "        data = aug2.augment(data)\n",
    "    \n",
    "    #manipulate pitch\n",
    "    i = random.randint(0,1)\n",
    "    if i == 1:\n",
    "        aug3 = naa.PitchAug(sampling_rate=11025, pitch_range=(-5,5))\n",
    "        data = aug3.augment(data)\n",
    "    \n",
    "    #time shift    \n",
    "#     aug4 = naa.ShiftAug(sampling_rate=11025)\n",
    "#     shifted = aug4.augment(pitched)\n",
    "    \n",
    "    return(data)\n"
   ]
  },
  {
   "cell_type": "code",
   "execution_count": 11,
   "metadata": {},
   "outputs": [
    {
     "name": "stdout",
     "output_type": "stream",
     "text": [
      "No of entries in our Dataset:  (9542,)\n"
     ]
    }
   ],
   "source": [
    "AMP_NORMALIZED_PATH = \"E:\\ChanuThesis\\ASR-Chimps-master\\ASR-Chimps-master\\Amplitude_normalized\"\n",
    "n_filepaths = np.asarray(getListOfFiles(AMP_NORMALIZED_PATH))\n",
    "print(\"No of entries in our Dataset: \", n_filepaths.shape)"
   ]
  },
  {
   "cell_type": "code",
   "execution_count": 13,
   "metadata": {},
   "outputs": [],
   "source": [
    "#caution\n",
    "for i in range(len(n_filepaths)):\n",
    "    data, sr = sf.read(n_filepaths[i])\n",
    "    for j in range(6):\n",
    "        output = augmentation(data)\n",
    "        sf.write(os.path.join(\"E:/ChanuThesis/ASR-Chimps-master/ASR-Chimps-master/Augmented/\",\"Aug\"+str(j)+\"R\"+os.path.basename(os.path.normpath(n_filepaths[i]))), output, 11025, 'PCM_16')"
   ]
  },
  {
   "cell_type": "code",
   "execution_count": 14,
   "metadata": {},
   "outputs": [],
   "source": [
    "def load_MFCCs(file_paths):\n",
    "    mfccs = []\n",
    "    mfccs.append(feature_utils.load_sound_mfccs(file_paths, 40))\n",
    "    return mfccs"
   ]
  },
  {
   "cell_type": "code",
   "execution_count": 15,
   "metadata": {
    "scrolled": true
   },
   "outputs": [
    {
     "name": "stdout",
     "output_type": "stream",
     "text": [
      "[[-5.1628204e+02 -5.1902502e+02 -5.2714832e+02 ... -5.0899850e+02\n",
      "  -5.3902686e+02 -6.6460645e+02]\n",
      " [ 4.6568726e+01  4.8248638e+01  4.8794746e+01 ...  5.5122692e+01\n",
      "   6.2451973e+01  6.5346802e+01]\n",
      " [-1.5397709e+01 -1.2829280e+01 -1.6100780e+01 ... -1.8907703e+01\n",
      "  -1.9611736e+01 -1.4064661e+01]\n",
      " ...\n",
      " [ 1.6460290e+00 -8.1244576e-01 -2.4740100e+00 ...  1.3831997e+00\n",
      "  -2.7046442e-01  2.0064902e+00]\n",
      " [-1.3374913e+00 -1.9250124e+00 -3.8256874e+00 ...  4.7318239e+00\n",
      "   7.0559187e+00  4.9671831e+00]\n",
      " [ 2.5583835e+00  4.5441985e-01  2.3998821e+00 ...  2.8002340e-01\n",
      "   3.0648899e+00  2.2564120e+00]]\n",
      "For 20 channels:  (40, 87)\n",
      "Time taken for 1 file:  0.013088100000459235\n"
     ]
    }
   ],
   "source": [
    "mfccsbase = load_MFCCs('E:/ChanuThesis/ProcessedSounds/UrbanSound8K-16bit/audioclassified/chimp_hoots/chimp_hoots-11-0 (1).wav')\n",
    "print(mfccsbase[0])\n",
    "print(\"For 20 channels: \", mfccsbase[0].shape)\n",
    "#print(\"For 30 channels: \",mfccsbase[1].shape)\n",
    "#print(\"For 40 channels: \",mfccsbase[2].shape)\n",
    "#print(\"For 60 channels: \",mfccsbase[3].shape)\n",
    "\n",
    "def singleMFCCexample():\n",
    "    mfccsbase = load_MFCCs('E:/ChanuThesis/ProcessedSounds/UrbanSound8K-16bit/audioclassified/chimp_hoots/chimp_hoots-11-0 (1).wav')\n",
    "print(\"Time taken for 1 file: \", timeit.timeit(singleMFCCexample, number=1))"
   ]
  },
  {
   "cell_type": "code",
   "execution_count": 4,
   "metadata": {},
   "outputs": [
    {
     "name": "stdout",
     "output_type": "stream",
     "text": [
      "No of entries in our Dataset:  (57246,)\n"
     ]
    }
   ],
   "source": [
    "#required\n",
    "AUGMENTED_PATH = \"E:\\ChanuThesis\\ASR-Chimps-master\\ASR-Chimps-master\\Augmented\"\n",
    "aug_filepaths = np.asarray(getListOfFiles(AUGMENTED_PATH))\n",
    "print(\"No of entries in our Dataset: \", aug_filepaths.shape)"
   ]
  },
  {
   "cell_type": "code",
   "execution_count": 5,
   "metadata": {},
   "outputs": [],
   "source": [
    "#AUG_PATH = \"E:\\ChanuThesis\\ASR-Chimps-master\\ASR-Chimps-master\\Amplitude_normalized\"\n",
    "mfcc_vectors = []\n",
    "def generate_MFCCS():\n",
    "    for i in range(len(aug_filepaths)):\n",
    "    #for i in range(len(filepaths)):\n",
    "        mfccsbase = load_MFCCs(aug_filepaths[i])\n",
    "        for j in range(1):\n",
    "            #11 sets of MFCCs for each file\n",
    "            mfcc_vectors.append(mfccsbase[j])\n",
    "        if i%300 == 0 :\n",
    "            print(\"MFCCs loaded for :\", aug_filepaths[i])"
   ]
  },
  {
   "cell_type": "code",
   "execution_count": 44,
   "metadata": {},
   "outputs": [
    {
     "name": "stdout",
     "output_type": "stream",
     "text": [
      "MFCCs loaded for : E:\\ChanuThesis\\ASR-Chimps-master\\ASR-Chimps-master\\Augmented\\Aug0R100263-2-0-117.wav\n",
      "MFCCs loaded for : E:\\ChanuThesis\\ASR-Chimps-master\\ASR-Chimps-master\\Augmented\\Aug0R104998-7-14-5.wav\n",
      "MFCCs loaded for : E:\\ChanuThesis\\ASR-Chimps-master\\ASR-Chimps-master\\Augmented\\Aug0R111386-5-0-7.wav\n",
      "MFCCs loaded for : E:\\ChanuThesis\\ASR-Chimps-master\\ASR-Chimps-master\\Augmented\\Aug0R121285-0-0-7.wav\n",
      "MFCCs loaded for : E:\\ChanuThesis\\ASR-Chimps-master\\ASR-Chimps-master\\Augmented\\Aug0R132021-7-0-10.wav\n",
      "MFCCs loaded for : E:\\ChanuThesis\\ASR-Chimps-master\\ASR-Chimps-master\\Augmented\\Aug0R144007-5-0-3.wav\n",
      "MFCCs loaded for : E:\\ChanuThesis\\ASR-Chimps-master\\ASR-Chimps-master\\Augmented\\Aug0R149255-9-0-0.wav\n",
      "MFCCs loaded for : E:\\ChanuThesis\\ASR-Chimps-master\\ASR-Chimps-master\\Augmented\\Aug0R157648-8-0-0.wav\n",
      "MFCCs loaded for : E:\\ChanuThesis\\ASR-Chimps-master\\ASR-Chimps-master\\Augmented\\Aug0R159761-0-0-0.wav\n",
      "MFCCs loaded for : E:\\ChanuThesis\\ASR-Chimps-master\\ASR-Chimps-master\\Augmented\\Aug0R166489-3-0-2.wav\n",
      "MFCCs loaded for : E:\\ChanuThesis\\ASR-Chimps-master\\ASR-Chimps-master\\Augmented\\Aug0R173994-3-0-44.wav\n",
      "MFCCs loaded for : E:\\ChanuThesis\\ASR-Chimps-master\\ASR-Chimps-master\\Augmented\\Aug0R177729-0-0-51.wav\n",
      "MFCCs loaded for : E:\\ChanuThesis\\ASR-Chimps-master\\ASR-Chimps-master\\Augmented\\Aug0R180134-4-2-4.wav\n",
      "MFCCs loaded for : E:\\ChanuThesis\\ASR-Chimps-master\\ASR-Chimps-master\\Augmented\\Aug0R187378-3-0-12.wav\n",
      "MFCCs loaded for : E:\\ChanuThesis\\ASR-Chimps-master\\ASR-Chimps-master\\Augmented\\Aug0R195451-5-0-13.wav\n",
      "MFCCs loaded for : E:\\ChanuThesis\\ASR-Chimps-master\\ASR-Chimps-master\\Augmented\\Aug0R203929-7-6-11.wav\n",
      "MFCCs loaded for : E:\\ChanuThesis\\ASR-Chimps-master\\ASR-Chimps-master\\Augmented\\Aug0R23219-5-1-0.wav\n",
      "MFCCs loaded for : E:\\ChanuThesis\\ASR-Chimps-master\\ASR-Chimps-master\\Augmented\\Aug0R31884-7-1-4.wav\n",
      "MFCCs loaded for : E:\\ChanuThesis\\ASR-Chimps-master\\ASR-Chimps-master\\Augmented\\Aug0R46669-4-0-4.wav\n",
      "MFCCs loaded for : E:\\ChanuThesis\\ASR-Chimps-master\\ASR-Chimps-master\\Augmented\\Aug0R57320-0-0-5.wav\n",
      "MFCCs loaded for : E:\\ChanuThesis\\ASR-Chimps-master\\ASR-Chimps-master\\Augmented\\Aug0R63095-4-1-23.wav\n",
      "MFCCs loaded for : E:\\ChanuThesis\\ASR-Chimps-master\\ASR-Chimps-master\\Augmented\\Aug0R72259-1-9-14.wav\n",
      "MFCCs loaded for : E:\\ChanuThesis\\ASR-Chimps-master\\ASR-Chimps-master\\Augmented\\Aug0R75490-8-1-0.wav\n",
      "MFCCs loaded for : E:\\ChanuThesis\\ASR-Chimps-master\\ASR-Chimps-master\\Augmented\\Aug0R82368-2-0-23.wav\n",
      "MFCCs loaded for : E:\\ChanuThesis\\ASR-Chimps-master\\ASR-Chimps-master\\Augmented\\Aug0R96657-8-0-0.wav\n",
      "MFCCs loaded for : E:\\ChanuThesis\\ASR-Chimps-master\\ASR-Chimps-master\\Augmented\\Aug0Rchimp_hoots-11-0 (182).wav\n",
      "MFCCs loaded for : E:\\ChanuThesis\\ASR-Chimps-master\\ASR-Chimps-master\\Augmented\\Aug0Rchimp_hoots-11-0 (452).wav\n",
      "MFCCs loaded for : E:\\ChanuThesis\\ASR-Chimps-master\\ASR-Chimps-master\\Augmented\\Aug0Rchimp_shriek-10-0 (238).wav\n",
      "MFCCs loaded for : E:\\ChanuThesis\\ASR-Chimps-master\\ASR-Chimps-master\\Augmented\\Aug0Rchimp_shriek-10-0 (508).wav\n",
      "MFCCs loaded for : E:\\ChanuThesis\\ASR-Chimps-master\\ASR-Chimps-master\\Augmented\\Aug0Rchimp_shriek-10-0 (779).wav\n",
      "MFCCs loaded for : E:\\ChanuThesis\\ASR-Chimps-master\\ASR-Chimps-master\\Augmented\\Aug0Rchimp_shriek-10-1 (28).wav\n",
      "MFCCs loaded for : E:\\ChanuThesis\\ASR-Chimps-master\\ASR-Chimps-master\\Augmented\\Aug0Rgun_shot-6-104.wav\n",
      "MFCCs loaded for : E:\\ChanuThesis\\ASR-Chimps-master\\ASR-Chimps-master\\Augmented\\Aug1R101415-3-0-3.wav\n",
      "MFCCs loaded for : E:\\ChanuThesis\\ASR-Chimps-master\\ASR-Chimps-master\\Augmented\\Aug1R105029-7-1-12.wav\n",
      "MFCCs loaded for : E:\\ChanuThesis\\ASR-Chimps-master\\ASR-Chimps-master\\Augmented\\Aug1R113202-5-0-13.wav\n",
      "MFCCs loaded for : E:\\ChanuThesis\\ASR-Chimps-master\\ASR-Chimps-master\\Augmented\\Aug1R123688-8-0-2.wav\n",
      "MFCCs loaded for : E:\\ChanuThesis\\ASR-Chimps-master\\ASR-Chimps-master\\Augmented\\Aug1R133090-2-0-38.wav\n",
      "MFCCs loaded for : E:\\ChanuThesis\\ASR-Chimps-master\\ASR-Chimps-master\\Augmented\\Aug1R144351-4-2-4.wav\n",
      "MFCCs loaded for : E:\\ChanuThesis\\ASR-Chimps-master\\ASR-Chimps-master\\Augmented\\Aug1R152588-3-1-0.wav\n",
      "MFCCs loaded for : E:\\ChanuThesis\\ASR-Chimps-master\\ASR-Chimps-master\\Augmented\\Aug1R157867-8-0-3.wav\n",
      "MFCCs loaded for : E:\\ChanuThesis\\ASR-Chimps-master\\ASR-Chimps-master\\Augmented\\Aug1R161129-4-0-19.wav\n",
      "MFCCs loaded for : E:\\ChanuThesis\\ASR-Chimps-master\\ASR-Chimps-master\\Augmented\\Aug1R167464-0-0-20.wav\n",
      "MFCCs loaded for : E:\\ChanuThesis\\ASR-Chimps-master\\ASR-Chimps-master\\Augmented\\Aug1R175296-2-0-86.wav\n",
      "MFCCs loaded for : E:\\ChanuThesis\\ASR-Chimps-master\\ASR-Chimps-master\\Augmented\\Aug1R178260-7-1-3.wav\n",
      "MFCCs loaded for : E:\\ChanuThesis\\ASR-Chimps-master\\ASR-Chimps-master\\Augmented\\Aug1R180937-7-2-8.wav\n",
      "MFCCs loaded for : E:\\ChanuThesis\\ASR-Chimps-master\\ASR-Chimps-master\\Augmented\\Aug1R189825-9-0-0.wav\n",
      "MFCCs loaded for : E:\\ChanuThesis\\ASR-Chimps-master\\ASR-Chimps-master\\Augmented\\Aug1R196083-2-0-0.wav\n",
      "MFCCs loaded for : E:\\ChanuThesis\\ASR-Chimps-master\\ASR-Chimps-master\\Augmented\\Aug1R204240-0-0-27.wav\n",
      "MFCCs loaded for : E:\\ChanuThesis\\ASR-Chimps-master\\ASR-Chimps-master\\Augmented\\Aug1R24347-8-0-47.wav\n",
      "MFCCs loaded for : E:\\ChanuThesis\\ASR-Chimps-master\\ASR-Chimps-master\\Augmented\\Aug1R35549-9-0-14.wav\n",
      "MFCCs loaded for : E:\\ChanuThesis\\ASR-Chimps-master\\ASR-Chimps-master\\Augmented\\Aug1R50415-4-0-1.wav\n",
      "MFCCs loaded for : E:\\ChanuThesis\\ASR-Chimps-master\\ASR-Chimps-master\\Augmented\\Aug1R58857-2-0-8.wav\n",
      "MFCCs loaded for : E:\\ChanuThesis\\ASR-Chimps-master\\ASR-Chimps-master\\Augmented\\Aug1R66115-1-0-1.wav\n",
      "MFCCs loaded for : E:\\ChanuThesis\\ASR-Chimps-master\\ASR-Chimps-master\\Augmented\\Aug1R73277-9-0-24.wav\n",
      "MFCCs loaded for : E:\\ChanuThesis\\ASR-Chimps-master\\ASR-Chimps-master\\Augmented\\Aug1R76086-4-0-53.wav\n",
      "MFCCs loaded for : E:\\ChanuThesis\\ASR-Chimps-master\\ASR-Chimps-master\\Augmented\\Aug1R84359-2-0-1.wav\n",
      "MFCCs loaded for : E:\\ChanuThesis\\ASR-Chimps-master\\ASR-Chimps-master\\Augmented\\Aug1R98681-9-0-12.wav\n",
      "MFCCs loaded for : E:\\ChanuThesis\\ASR-Chimps-master\\ASR-Chimps-master\\Augmented\\Aug1Rchimp_hoots-11-0 (235).wav\n",
      "MFCCs loaded for : E:\\ChanuThesis\\ASR-Chimps-master\\ASR-Chimps-master\\Augmented\\Aug1Rchimp_hoots-11-0 (505).wav\n",
      "MFCCs loaded for : E:\\ChanuThesis\\ASR-Chimps-master\\ASR-Chimps-master\\Augmented\\Aug1Rchimp_shriek-10-0 (291).wav\n",
      "MFCCs loaded for : E:\\ChanuThesis\\ASR-Chimps-master\\ASR-Chimps-master\\Augmented\\Aug1Rchimp_shriek-10-0 (561).wav\n",
      "MFCCs loaded for : E:\\ChanuThesis\\ASR-Chimps-master\\ASR-Chimps-master\\Augmented\\Aug1Rchimp_shriek-10-0 (831).wav\n",
      "MFCCs loaded for : E:\\ChanuThesis\\ASR-Chimps-master\\ASR-Chimps-master\\Augmented\\Aug1Rchimp_shriek-10-1 (82).wav\n",
      "MFCCs loaded for : E:\\ChanuThesis\\ASR-Chimps-master\\ASR-Chimps-master\\Augmented\\Aug1Rgun_shot-6-34.wav\n",
      "MFCCs loaded for : E:\\ChanuThesis\\ASR-Chimps-master\\ASR-Chimps-master\\Augmented\\Aug2R102857-5-0-16.wav\n",
      "MFCCs loaded for : E:\\ChanuThesis\\ASR-Chimps-master\\ASR-Chimps-master\\Augmented\\Aug2R105289-8-2-5.wav\n",
      "MFCCs loaded for : E:\\ChanuThesis\\ASR-Chimps-master\\ASR-Chimps-master\\Augmented\\Aug2R113601-9-0-35.wav\n",
      "MFCCs loaded for : E:\\ChanuThesis\\ASR-Chimps-master\\ASR-Chimps-master\\Augmented\\Aug2R125678-7-1-2.wav\n",
      "MFCCs loaded for : E:\\ChanuThesis\\ASR-Chimps-master\\ASR-Chimps-master\\Augmented\\Aug2R135527-6-14-3.wav\n",
      "MFCCs loaded for : E:\\ChanuThesis\\ASR-Chimps-master\\ASR-Chimps-master\\Augmented\\Aug2R146690-0-0-125.wav\n",
      "MFCCs loaded for : E:\\ChanuThesis\\ASR-Chimps-master\\ASR-Chimps-master\\Augmented\\Aug2R155202-9-0-126.wav\n",
      "MFCCs loaded for : E:\\ChanuThesis\\ASR-Chimps-master\\ASR-Chimps-master\\Augmented\\Aug2R158608-8-0-2.wav\n",
      "MFCCs loaded for : E:\\ChanuThesis\\ASR-Chimps-master\\ASR-Chimps-master\\Augmented\\Aug2R162134-7-12-3.wav\n",
      "MFCCs loaded for : E:\\ChanuThesis\\ASR-Chimps-master\\ASR-Chimps-master\\Augmented\\Aug2R168906-9-0-47.wav\n",
      "MFCCs loaded for : E:\\ChanuThesis\\ASR-Chimps-master\\ASR-Chimps-master\\Augmented\\Aug2R176258-3-1-12.wav\n",
      "MFCCs loaded for : E:\\ChanuThesis\\ASR-Chimps-master\\ASR-Chimps-master\\Augmented\\Aug2R17853-5-0-13.wav\n",
      "MFCCs loaded for : E:\\ChanuThesis\\ASR-Chimps-master\\ASR-Chimps-master\\Augmented\\Aug2R181725-3-0-22.wav\n",
      "MFCCs loaded for : E:\\ChanuThesis\\ASR-Chimps-master\\ASR-Chimps-master\\Augmented\\Aug2R189987-0-0-1.wav\n",
      "MFCCs loaded for : E:\\ChanuThesis\\ASR-Chimps-master\\ASR-Chimps-master\\Augmented\\Aug2R199769-1-0-18.wav\n"
     ]
    },
    {
     "name": "stdout",
     "output_type": "stream",
     "text": [
      "MFCCs loaded for : E:\\ChanuThesis\\ASR-Chimps-master\\ASR-Chimps-master\\Augmented\\Aug2R207211-2-0-58.wav\n",
      "MFCCs loaded for : E:\\ChanuThesis\\ASR-Chimps-master\\ASR-Chimps-master\\Augmented\\Aug2R24364-4-0-1.wav\n",
      "MFCCs loaded for : E:\\ChanuThesis\\ASR-Chimps-master\\ASR-Chimps-master\\Augmented\\Aug2R39856-5-0-0.wav\n",
      "MFCCs loaded for : E:\\ChanuThesis\\ASR-Chimps-master\\ASR-Chimps-master\\Augmented\\Aug2R52171-3-6-1.wav\n",
      "MFCCs loaded for : E:\\ChanuThesis\\ASR-Chimps-master\\ASR-Chimps-master\\Augmented\\Aug2R60608-9-0-1.wav\n",
      "MFCCs loaded for : E:\\ChanuThesis\\ASR-Chimps-master\\ASR-Chimps-master\\Augmented\\Aug2R6902-2-0-18.wav\n",
      "MFCCs loaded for : E:\\ChanuThesis\\ASR-Chimps-master\\ASR-Chimps-master\\Augmented\\Aug2R7389-1-4-15.wav\n",
      "MFCCs loaded for : E:\\ChanuThesis\\ASR-Chimps-master\\ASR-Chimps-master\\Augmented\\Aug2R77751-7-9-2.wav\n",
      "MFCCs loaded for : E:\\ChanuThesis\\ASR-Chimps-master\\ASR-Chimps-master\\Augmented\\Aug2R89724-5-0-1.wav\n",
      "MFCCs loaded for : E:\\ChanuThesis\\ASR-Chimps-master\\ASR-Chimps-master\\Augmented\\Aug2R99500-2-0-29.wav\n",
      "MFCCs loaded for : E:\\ChanuThesis\\ASR-Chimps-master\\ASR-Chimps-master\\Augmented\\Aug2Rchimp_hoots-11-0 (289).wav\n",
      "MFCCs loaded for : E:\\ChanuThesis\\ASR-Chimps-master\\ASR-Chimps-master\\Augmented\\Aug2Rchimp_hoots-11-0 (82).wav\n",
      "MFCCs loaded for : E:\\ChanuThesis\\ASR-Chimps-master\\ASR-Chimps-master\\Augmented\\Aug2Rchimp_shriek-10-0 (344).wav\n",
      "MFCCs loaded for : E:\\ChanuThesis\\ASR-Chimps-master\\ASR-Chimps-master\\Augmented\\Aug2Rchimp_shriek-10-0 (614).wav\n",
      "MFCCs loaded for : E:\\ChanuThesis\\ASR-Chimps-master\\ASR-Chimps-master\\Augmented\\Aug2Rchimp_shriek-10-0 (885).wav\n",
      "MFCCs loaded for : E:\\ChanuThesis\\ASR-Chimps-master\\ASR-Chimps-master\\Augmented\\Aug2Rdog_bark-3-34.wav\n",
      "MFCCs loaded for : E:\\ChanuThesis\\ASR-Chimps-master\\ASR-Chimps-master\\Augmented\\Aug2Rgun_shot-6-88.wav\n",
      "MFCCs loaded for : E:\\ChanuThesis\\ASR-Chimps-master\\ASR-Chimps-master\\Augmented\\Aug3R103074-7-4-4.wav\n",
      "MFCCs loaded for : E:\\ChanuThesis\\ASR-Chimps-master\\ASR-Chimps-master\\Augmented\\Aug3R107228-5-0-0.wav\n",
      "MFCCs loaded for : E:\\ChanuThesis\\ASR-Chimps-master\\ASR-Chimps-master\\Augmented\\Aug3R116423-2-0-3.wav\n",
      "MFCCs loaded for : E:\\ChanuThesis\\ASR-Chimps-master\\ASR-Chimps-master\\Augmented\\Aug3R127443-4-0-7.wav\n",
      "MFCCs loaded for : E:\\ChanuThesis\\ASR-Chimps-master\\ASR-Chimps-master\\Augmented\\Aug3R137969-2-0-4.wav\n",
      "MFCCs loaded for : E:\\ChanuThesis\\ASR-Chimps-master\\ASR-Chimps-master\\Augmented\\Aug3R146714-0-0-45.wav\n",
      "MFCCs loaded for : E:\\ChanuThesis\\ASR-Chimps-master\\ASR-Chimps-master\\Augmented\\Aug3R155262-2-0-15.wav\n",
      "MFCCs loaded for : E:\\ChanuThesis\\ASR-Chimps-master\\ASR-Chimps-master\\Augmented\\Aug3R159744-8-0-0.wav\n",
      "MFCCs loaded for : E:\\ChanuThesis\\ASR-Chimps-master\\ASR-Chimps-master\\Augmented\\Aug3R164194-2-0-26.wav\n",
      "MFCCs loaded for : E:\\ChanuThesis\\ASR-Chimps-master\\ASR-Chimps-master\\Augmented\\Aug3R169466-4-2-21.wav\n",
      "MFCCs loaded for : E:\\ChanuThesis\\ASR-Chimps-master\\ASR-Chimps-master\\Augmented\\Aug3R177537-7-0-17.wav\n",
      "MFCCs loaded for : E:\\ChanuThesis\\ASR-Chimps-master\\ASR-Chimps-master\\Augmented\\Aug3R178826-2-0-16.wav\n",
      "MFCCs loaded for : E:\\ChanuThesis\\ASR-Chimps-master\\ASR-Chimps-master\\Augmented\\Aug3R184805-0-0-2.wav\n",
      "MFCCs loaded for : E:\\ChanuThesis\\ASR-Chimps-master\\ASR-Chimps-master\\Augmented\\Aug3R192123-2-0-11.wav\n",
      "MFCCs loaded for : E:\\ChanuThesis\\ASR-Chimps-master\\ASR-Chimps-master\\Augmented\\Aug3R201988-5-0-11.wav\n",
      "MFCCs loaded for : E:\\ChanuThesis\\ASR-Chimps-master\\ASR-Chimps-master\\Augmented\\Aug3R209992-5-4-17.wav\n",
      "MFCCs loaded for : E:\\ChanuThesis\\ASR-Chimps-master\\ASR-Chimps-master\\Augmented\\Aug3R28808-1-0-2.wav\n",
      "MFCCs loaded for : E:\\ChanuThesis\\ASR-Chimps-master\\ASR-Chimps-master\\Augmented\\Aug3R39970-9-0-142.wav\n",
      "MFCCs loaded for : E:\\ChanuThesis\\ASR-Chimps-master\\ASR-Chimps-master\\Augmented\\Aug3R54383-0-0-6.wav\n",
      "MFCCs loaded for : E:\\ChanuThesis\\ASR-Chimps-master\\ASR-Chimps-master\\Augmented\\Aug3R62461-0-0-0.wav\n",
      "MFCCs loaded for : E:\\ChanuThesis\\ASR-Chimps-master\\ASR-Chimps-master\\Augmented\\Aug3R71171-4-3-0.wav\n",
      "MFCCs loaded for : E:\\ChanuThesis\\ASR-Chimps-master\\ASR-Chimps-master\\Augmented\\Aug3R74507-0-0-0.wav\n",
      "MFCCs loaded for : E:\\ChanuThesis\\ASR-Chimps-master\\ASR-Chimps-master\\Augmented\\Aug3R78360-4-0-3.wav\n",
      "MFCCs loaded for : E:\\ChanuThesis\\ASR-Chimps-master\\ASR-Chimps-master\\Augmented\\Aug3R93193-9-1-18.wav\n",
      "MFCCs loaded for : E:\\ChanuThesis\\ASR-Chimps-master\\ASR-Chimps-master\\Augmented\\Aug3Rcar_horn-1-48.wav\n",
      "MFCCs loaded for : E:\\ChanuThesis\\ASR-Chimps-master\\ASR-Chimps-master\\Augmented\\Aug3Rchimp_hoots-11-0 (341).wav\n",
      "MFCCs loaded for : E:\\ChanuThesis\\ASR-Chimps-master\\ASR-Chimps-master\\Augmented\\Aug3Rchimp_shriek-10-0 (127).wav\n",
      "MFCCs loaded for : E:\\ChanuThesis\\ASR-Chimps-master\\ASR-Chimps-master\\Augmented\\Aug3Rchimp_shriek-10-0 (398).wav\n",
      "MFCCs loaded for : E:\\ChanuThesis\\ASR-Chimps-master\\ASR-Chimps-master\\Augmented\\Aug3Rchimp_shriek-10-0 (668).wav\n",
      "MFCCs loaded for : E:\\ChanuThesis\\ASR-Chimps-master\\ASR-Chimps-master\\Augmented\\Aug3Rchimp_shriek-10-0 (938).wav\n",
      "MFCCs loaded for : E:\\ChanuThesis\\ASR-Chimps-master\\ASR-Chimps-master\\Augmented\\Aug3Rdog_bark-3-88.wav\n",
      "MFCCs loaded for : E:\\ChanuThesis\\ASR-Chimps-master\\ASR-Chimps-master\\Augmented\\Aug3Rjackhammer-7-50.wav\n",
      "MFCCs loaded for : E:\\ChanuThesis\\ASR-Chimps-master\\ASR-Chimps-master\\Augmented\\Aug4R103258-5-0-8.wav\n",
      "MFCCs loaded for : E:\\ChanuThesis\\ASR-Chimps-master\\ASR-Chimps-master\\Augmented\\Aug4R108357-9-0-27.wav\n",
      "MFCCs loaded for : E:\\ChanuThesis\\ASR-Chimps-master\\ASR-Chimps-master\\Augmented\\Aug4R118278-4-0-6.wav\n",
      "MFCCs loaded for : E:\\ChanuThesis\\ASR-Chimps-master\\ASR-Chimps-master\\Augmented\\Aug4R128891-3-0-5.wav\n",
      "MFCCs loaded for : E:\\ChanuThesis\\ASR-Chimps-master\\ASR-Chimps-master\\Augmented\\Aug4R14111-4-0-7.wav\n",
      "MFCCs loaded for : E:\\ChanuThesis\\ASR-Chimps-master\\ASR-Chimps-master\\Augmented\\Aug4R147926-0-0-2.wav\n",
      "MFCCs loaded for : E:\\ChanuThesis\\ASR-Chimps-master\\ASR-Chimps-master\\Augmented\\Aug4R156358-5-0-0.wav\n",
      "MFCCs loaded for : E:\\ChanuThesis\\ASR-Chimps-master\\ASR-Chimps-master\\Augmented\\Aug4R159748-8-2-5.wav\n",
      "MFCCs loaded for : E:\\ChanuThesis\\ASR-Chimps-master\\ASR-Chimps-master\\Augmented\\Aug4R165067-2-0-35.wav\n",
      "MFCCs loaded for : E:\\ChanuThesis\\ASR-Chimps-master\\ASR-Chimps-master\\Augmented\\Aug4R171406-9-0-124.wav\n",
      "MFCCs loaded for : E:\\ChanuThesis\\ASR-Chimps-master\\ASR-Chimps-master\\Augmented\\Aug4R177621-0-0-127.wav\n",
      "MFCCs loaded for : E:\\ChanuThesis\\ASR-Chimps-master\\ASR-Chimps-master\\Augmented\\Aug4R180125-4-3-24.wav\n",
      "MFCCs loaded for : E:\\ChanuThesis\\ASR-Chimps-master\\ASR-Chimps-master\\Augmented\\Aug4R185801-4-0-0.wav\n",
      "MFCCs loaded for : E:\\ChanuThesis\\ASR-Chimps-master\\ASR-Chimps-master\\Augmented\\Aug4R193699-2-0-32.wav\n",
      "MFCCs loaded for : E:\\ChanuThesis\\ASR-Chimps-master\\ASR-Chimps-master\\Augmented\\Aug4R203654-9-0-42.wav\n",
      "MFCCs loaded for : E:\\ChanuThesis\\ASR-Chimps-master\\ASR-Chimps-master\\Augmented\\Aug4R22601-8-0-45.wav\n",
      "MFCCs loaded for : E:\\ChanuThesis\\ASR-Chimps-master\\ASR-Chimps-master\\Augmented\\Aug4R30206-7-0-17.wav\n",
      "MFCCs loaded for : E:\\ChanuThesis\\ASR-Chimps-master\\ASR-Chimps-master\\Augmented\\Aug4R42324-4-2-4.wav\n",
      "MFCCs loaded for : E:\\ChanuThesis\\ASR-Chimps-master\\ASR-Chimps-master\\Augmented\\Aug4R55018-0-0-148.wav\n",
      "MFCCs loaded for : E:\\ChanuThesis\\ASR-Chimps-master\\ASR-Chimps-master\\Augmented\\Aug4R62837-7-1-1.wav\n",
      "MFCCs loaded for : E:\\ChanuThesis\\ASR-Chimps-master\\ASR-Chimps-master\\Augmented\\Aug4R72220-3-2-2.wav\n",
      "MFCCs loaded for : E:\\ChanuThesis\\ASR-Chimps-master\\ASR-Chimps-master\\Augmented\\Aug4R74677-0-0-95.wav\n",
      "MFCCs loaded for : E:\\ChanuThesis\\ASR-Chimps-master\\ASR-Chimps-master\\Augmented\\Aug4R79584-3-0-5.wav\n",
      "MFCCs loaded for : E:\\ChanuThesis\\ASR-Chimps-master\\ASR-Chimps-master\\Augmented\\Aug4R94632-5-1-17.wav\n",
      "MFCCs loaded for : E:\\ChanuThesis\\ASR-Chimps-master\\ASR-Chimps-master\\Augmented\\Aug4Rchimp_hoots-11-0 (124).wav\n",
      "MFCCs loaded for : E:\\ChanuThesis\\ASR-Chimps-master\\ASR-Chimps-master\\Augmented\\Aug4Rchimp_hoots-11-0 (395).wav\n",
      "MFCCs loaded for : E:\\ChanuThesis\\ASR-Chimps-master\\ASR-Chimps-master\\Augmented\\Aug4Rchimp_shriek-10-0 (180).wav\n",
      "MFCCs loaded for : E:\\ChanuThesis\\ASR-Chimps-master\\ASR-Chimps-master\\Augmented\\Aug4Rchimp_shriek-10-0 (450).wav\n",
      "MFCCs loaded for : E:\\ChanuThesis\\ASR-Chimps-master\\ASR-Chimps-master\\Augmented\\Aug4Rchimp_shriek-10-0 (720).wav\n",
      "MFCCs loaded for : E:\\ChanuThesis\\ASR-Chimps-master\\ASR-Chimps-master\\Augmented\\Aug4Rchimp_shriek-10-1 (14).wav\n"
     ]
    },
    {
     "name": "stdout",
     "output_type": "stream",
     "text": [
      "MFCCs loaded for : E:\\ChanuThesis\\ASR-Chimps-master\\ASR-Chimps-master\\Augmented\\Aug4Rdrilling-4-50.wav\n",
      "MFCCs loaded for : E:\\ChanuThesis\\ASR-Chimps-master\\ASR-Chimps-master\\Augmented\\Aug4Rsiren-8-5.wav\n",
      "MFCCs loaded for : E:\\ChanuThesis\\ASR-Chimps-master\\ASR-Chimps-master\\Augmented\\Aug5R104998-7-10-9.wav\n",
      "MFCCs loaded for : E:\\ChanuThesis\\ASR-Chimps-master\\ASR-Chimps-master\\Augmented\\Aug5R111386-5-0-2.wav\n",
      "MFCCs loaded for : E:\\ChanuThesis\\ASR-Chimps-master\\ASR-Chimps-master\\Augmented\\Aug5R121285-0-0-2.wav\n",
      "MFCCs loaded for : E:\\ChanuThesis\\ASR-Chimps-master\\ASR-Chimps-master\\Augmented\\Aug5R132016-9-0-16.wav\n",
      "MFCCs loaded for : E:\\ChanuThesis\\ASR-Chimps-master\\ASR-Chimps-master\\Augmented\\Aug5R144007-5-0-18.wav\n",
      "MFCCs loaded for : E:\\ChanuThesis\\ASR-Chimps-master\\ASR-Chimps-master\\Augmented\\Aug5R149254-9-0-29.wav\n",
      "MFCCs loaded for : E:\\ChanuThesis\\ASR-Chimps-master\\ASR-Chimps-master\\Augmented\\Aug5R156869-8-0-9.wav\n",
      "MFCCs loaded for : E:\\ChanuThesis\\ASR-Chimps-master\\ASR-Chimps-master\\Augmented\\Aug5R159754-8-4-0.wav\n",
      "MFCCs loaded for : E:\\ChanuThesis\\ASR-Chimps-master\\ASR-Chimps-master\\Augmented\\Aug5R166101-5-2-4.wav\n",
      "MFCCs loaded for : E:\\ChanuThesis\\ASR-Chimps-master\\ASR-Chimps-master\\Augmented\\Aug5R173993-3-0-39.wav\n",
      "MFCCs loaded for : E:\\ChanuThesis\\ASR-Chimps-master\\ASR-Chimps-master\\Augmented\\Aug5R177729-0-0-3.wav\n",
      "MFCCs loaded for : E:\\ChanuThesis\\ASR-Chimps-master\\ASR-Chimps-master\\Augmented\\Aug5R180134-4-2-15.wav\n",
      "MFCCs loaded for : E:\\ChanuThesis\\ASR-Chimps-master\\ASR-Chimps-master\\Augmented\\Aug5R187110-2-0-8.wav\n",
      "MFCCs loaded for : E:\\ChanuThesis\\ASR-Chimps-master\\ASR-Chimps-master\\Augmented\\Aug5R195451-5-0-0.wav\n",
      "MFCCs loaded for : E:\\ChanuThesis\\ASR-Chimps-master\\ASR-Chimps-master\\Augmented\\Aug5R203929-7-5-11.wav\n",
      "MFCCs loaded for : E:\\ChanuThesis\\ASR-Chimps-master\\ASR-Chimps-master\\Augmented\\Aug5R23219-5-0-5.wav\n",
      "MFCCs loaded for : E:\\ChanuThesis\\ASR-Chimps-master\\ASR-Chimps-master\\Augmented\\Aug5R31884-7-0-3.wav\n",
      "MFCCs loaded for : E:\\ChanuThesis\\ASR-Chimps-master\\ASR-Chimps-master\\Augmented\\Aug5R46669-4-0-33.wav\n",
      "MFCCs loaded for : E:\\ChanuThesis\\ASR-Chimps-master\\ASR-Chimps-master\\Augmented\\Aug5R57320-0-0-38.wav\n",
      "MFCCs loaded for : E:\\ChanuThesis\\ASR-Chimps-master\\ASR-Chimps-master\\Augmented\\Aug5R63095-4-0-8.wav\n",
      "MFCCs loaded for : E:\\ChanuThesis\\ASR-Chimps-master\\ASR-Chimps-master\\Augmented\\Aug5R72259-1-9-1.wav\n",
      "MFCCs loaded for : E:\\ChanuThesis\\ASR-Chimps-master\\ASR-Chimps-master\\Augmented\\Aug5R74965-4-1-1.wav\n",
      "MFCCs loaded for : E:\\ChanuThesis\\ASR-Chimps-master\\ASR-Chimps-master\\Augmented\\Aug5R82317-1-0-0.wav\n",
      "MFCCs loaded for : E:\\ChanuThesis\\ASR-Chimps-master\\ASR-Chimps-master\\Augmented\\Aug5R96475-9-0-3.wav\n",
      "MFCCs loaded for : E:\\ChanuThesis\\ASR-Chimps-master\\ASR-Chimps-master\\Augmented\\Aug5Rchimp_hoots-11-0 (178).wav\n",
      "MFCCs loaded for : E:\\ChanuThesis\\ASR-Chimps-master\\ASR-Chimps-master\\Augmented\\Aug5Rchimp_hoots-11-0 (448).wav\n",
      "MFCCs loaded for : E:\\ChanuThesis\\ASR-Chimps-master\\ASR-Chimps-master\\Augmented\\Aug5Rchimp_shriek-10-0 (233).wav\n",
      "MFCCs loaded for : E:\\ChanuThesis\\ASR-Chimps-master\\ASR-Chimps-master\\Augmented\\Aug5Rchimp_shriek-10-0 (503).wav\n",
      "MFCCs loaded for : E:\\ChanuThesis\\ASR-Chimps-master\\ASR-Chimps-master\\Augmented\\Aug5Rchimp_shriek-10-0 (774).wav\n",
      "MFCCs loaded for : E:\\ChanuThesis\\ASR-Chimps-master\\ASR-Chimps-master\\Augmented\\Aug5Rchimp_shriek-10-1 (23).wav\n",
      "MFCCs loaded for : E:\\ChanuThesis\\ASR-Chimps-master\\ASR-Chimps-master\\Augmented\\Aug5Rgun_shot-6-10.wav\n"
     ]
    },
    {
     "data": {
      "text/plain": [
       "57246"
      ]
     },
     "execution_count": 44,
     "metadata": {},
     "output_type": "execute_result"
    }
   ],
   "source": [
    "# caution\n",
    "generate_MFCCS()\n",
    "len(mfcc_vectors)"
   ]
  },
  {
   "cell_type": "code",
   "execution_count": null,
   "metadata": {},
   "outputs": [],
   "source": []
  },
  {
   "cell_type": "code",
   "execution_count": 6,
   "metadata": {},
   "outputs": [
    {
     "name": "stdout",
     "output_type": "stream",
     "text": [
      "Labels :  (57246,)\n"
     ]
    }
   ],
   "source": [
    "\n",
    "Y = np.ndarray(0)\n",
    "labels = urban_labels(Y, aug_filepaths)\n",
    "print(\"Labels : \",labels.shape)"
   ]
  },
  {
   "cell_type": "code",
   "execution_count": 8,
   "metadata": {},
   "outputs": [
    {
     "data": {
      "text/plain": [
       "'E:\\\\ChanuThesis\\\\ASR-Chimps-master\\\\ASR-Chimps-master\\\\Augmented\\\\Aug1R168846-5-1-12.wav'"
      ]
     },
     "execution_count": 8,
     "metadata": {},
     "output_type": "execute_result"
    }
   ],
   "source": [
    "aug_filepaths[12345]\n",
    "#labels[12345]"
   ]
  },
  {
   "cell_type": "code",
   "execution_count": 47,
   "metadata": {},
   "outputs": [],
   "source": [
    "with open(\"Experiments/MFCCs_aug.txt\", \"wb\") as fp:   #Pickling\n",
    "    pickle.dump(mfcc_vectors, fp)\n",
    "#del mfcc_vectors"
   ]
  },
  {
   "cell_type": "code",
   "execution_count": 9,
   "metadata": {},
   "outputs": [
    {
     "data": {
      "text/plain": [
       "(57246, 40, 87)"
      ]
     },
     "execution_count": 9,
     "metadata": {},
     "output_type": "execute_result"
    }
   ],
   "source": [
    "X = np.array(pickle.load( open( \"Experiments/MFCCs_aug.txt\", \"rb\" ) ))\n",
    "X.shape"
   ]
  },
  {
   "cell_type": "code",
   "execution_count": 10,
   "metadata": {},
   "outputs": [
    {
     "name": "stderr",
     "output_type": "stream",
     "text": [
      "Using TensorFlow backend.\n"
     ]
    }
   ],
   "source": [
    "\n",
    "from sklearn.model_selection import train_test_split\n",
    "XTrain,XTest,YTrain,YTest=train_test_split(X,labels,test_size=0.25)\n",
    "\n",
    "from keras.utils import to_categorical\n",
    "\n",
    "YTrain = np.array(to_categorical(YTrain, num_classes=12))\n",
    "YTest = np.array(to_categorical(YTest, num_classes=12))\n",
    "\n",
    "del X"
   ]
  },
  {
   "cell_type": "code",
   "execution_count": 11,
   "metadata": {},
   "outputs": [
    {
     "data": {
      "text/plain": [
       "(40, 87)"
      ]
     },
     "execution_count": 11,
     "metadata": {},
     "output_type": "execute_result"
    }
   ],
   "source": [
    "XTrain[0].shape"
   ]
  },
  {
   "cell_type": "code",
   "execution_count": 12,
   "metadata": {},
   "outputs": [
    {
     "name": "stdout",
     "output_type": "stream",
     "text": [
      "(42934, 40, 87, 1)\n",
      "(14312, 40, 87, 1)\n"
     ]
    }
   ],
   "source": [
    "XTrain = XTrain.reshape(XTrain.shape[0], 40, 87, 1)\n",
    "XTest = XTest.reshape(XTest.shape[0], 40, 87, 1)\n",
    "\n",
    "np.savez('aug_data_h.npz', XTrain=XTrain, XTest=XTest, YTrain=YTrain, YTest=YTest)\n",
    "print(XTrain.shape)\n",
    "print(XTest.shape)"
   ]
  },
  {
   "cell_type": "code",
   "execution_count": 52,
   "metadata": {},
   "outputs": [],
   "source": [
    "#del mfcc_vectors"
   ]
  },
  {
   "cell_type": "code",
   "execution_count": 13,
   "metadata": {},
   "outputs": [],
   "source": [
    "import keras\n",
    "from keras.models import Sequential, Model, load_model\n",
    "from keras.layers.normalization import BatchNormalization\n",
    "from keras.layers import Input, Dense, Dropout, Activation, Flatten\n",
    "from keras.layers import Conv2D, MaxPooling2D, GlobalAveragePooling2D\n",
    "from keras import optimizers\n",
    "from keras.utils import np_utils\n",
    "from sklearn import metrics"
   ]
  },
  {
   "cell_type": "code",
   "execution_count": 14,
   "metadata": {},
   "outputs": [
    {
     "name": "stdout",
     "output_type": "stream",
     "text": [
      "WARNING:tensorflow:From d:\\installfiles\\python\\python37\\lib\\site-packages\\keras\\backend\\tensorflow_backend.py:4070: The name tf.nn.max_pool is deprecated. Please use tf.nn.max_pool2d instead.\n",
      "\n"
     ]
    }
   ],
   "source": [
    "model = Sequential()\n",
    "\n",
    "model.add(Conv2D(16, kernel_size=(2, 2), activation='relu', input_shape=(40, 87, 1), padding='same'))\n",
    "model.add(BatchNormalization())\n",
    "model.add(MaxPooling2D(pool_size=(2, 2)))\n",
    "model.add(Dropout(0.50))\n",
    "\n",
    "model.add(Conv2D(32, kernel_size=(2, 2), activation='relu', padding='same'))\n",
    "#model.add(BatchNormalization())\n",
    "model.add(MaxPooling2D(pool_size=(2, 2)))\n",
    "model.add(Dropout(0.50))\n",
    "model.add(Flatten())\n",
    "\n",
    "model.add(Dense(128, activation='relu'))\n",
    "model.add(Dropout(0.50))\n",
    "\n",
    "model.add(Dense(12, activation='softmax'))\n",
    "\n",
    "model.compile(loss='categorical_crossentropy', metrics=['accuracy'], optimizer='adam')"
   ]
  },
  {
   "cell_type": "code",
   "execution_count": 31,
   "metadata": {},
   "outputs": [
    {
     "name": "stdout",
     "output_type": "stream",
     "text": [
      "Model: \"sequential_9\"\n",
      "_________________________________________________________________\n",
      "Layer (type)                 Output Shape              Param #   \n",
      "=================================================================\n",
      "conv2d_17 (Conv2D)           (None, 40, 87, 16)        80        \n",
      "_________________________________________________________________\n",
      "batch_normalization_9 (Batch (None, 40, 87, 16)        64        \n",
      "_________________________________________________________________\n",
      "max_pooling2d_13 (MaxPooling (None, 20, 43, 16)        0         \n",
      "_________________________________________________________________\n",
      "dropout_21 (Dropout)         (None, 20, 43, 16)        0         \n",
      "_________________________________________________________________\n",
      "conv2d_18 (Conv2D)           (None, 20, 43, 32)        2080      \n",
      "_________________________________________________________________\n",
      "max_pooling2d_14 (MaxPooling (None, 10, 21, 32)        0         \n",
      "_________________________________________________________________\n",
      "dropout_22 (Dropout)         (None, 10, 21, 32)        0         \n",
      "_________________________________________________________________\n",
      "flatten_9 (Flatten)          (None, 6720)              0         \n",
      "_________________________________________________________________\n",
      "dense_17 (Dense)             (None, 128)               860288    \n",
      "_________________________________________________________________\n",
      "dropout_23 (Dropout)         (None, 128)               0         \n",
      "_________________________________________________________________\n",
      "dense_18 (Dense)             (None, 12)                1548      \n",
      "=================================================================\n",
      "Total params: 864,060\n",
      "Trainable params: 864,028\n",
      "Non-trainable params: 32\n",
      "_________________________________________________________________\n"
     ]
    }
   ],
   "source": [
    "model.summary()"
   ]
  },
  {
   "cell_type": "code",
   "execution_count": 32,
   "metadata": {},
   "outputs": [
    {
     "name": "stdout",
     "output_type": "stream",
     "text": [
      "Train on 42934 samples, validate on 14312 samples\n",
      "Epoch 1/100\n",
      "42934/42934 [==============================] - 43s 1ms/step - loss: 2.1589 - accuracy: 0.2271 - val_loss: 1.7531 - val_accuracy: 0.4261\n",
      "Epoch 2/100\n",
      "42934/42934 [==============================] - 47s 1ms/step - loss: 1.8845 - accuracy: 0.3078 - val_loss: 1.5436 - val_accuracy: 0.5045\n",
      "Epoch 3/100\n",
      "42934/42934 [==============================] - 46s 1ms/step - loss: 1.7056 - accuracy: 0.3765 - val_loss: 1.4080 - val_accuracy: 0.5463\n",
      "Epoch 4/100\n",
      "42934/42934 [==============================] - 52s 1ms/step - loss: 1.5124 - accuracy: 0.4534 - val_loss: 1.1922 - val_accuracy: 0.5978\n",
      "Epoch 5/100\n",
      "42934/42934 [==============================] - 45s 1ms/step - loss: 1.3962 - accuracy: 0.5000 - val_loss: 1.1023 - val_accuracy: 0.6339\n",
      "Epoch 6/100\n",
      "42934/42934 [==============================] - 53s 1ms/step - loss: 1.3313 - accuracy: 0.5252 - val_loss: 1.0352 - val_accuracy: 0.6544\n",
      "Epoch 7/100\n",
      "42934/42934 [==============================] - 46s 1ms/step - loss: 1.2663 - accuracy: 0.5480 - val_loss: 0.9638 - val_accuracy: 0.6796\n",
      "Epoch 8/100\n",
      "42934/42934 [==============================] - 33s 759us/step - loss: 1.2314 - accuracy: 0.5637 - val_loss: 0.9465 - val_accuracy: 0.6863\n",
      "Epoch 9/100\n",
      "42934/42934 [==============================] - 33s 774us/step - loss: 1.1968 - accuracy: 0.5766 - val_loss: 0.9063 - val_accuracy: 0.6957\n",
      "Epoch 10/100\n",
      "42934/42934 [==============================] - 34s 783us/step - loss: 1.1628 - accuracy: 0.5892 - val_loss: 0.8670 - val_accuracy: 0.7054\n",
      "Epoch 11/100\n",
      "42934/42934 [==============================] - 32s 746us/step - loss: 1.1429 - accuracy: 0.5963 - val_loss: 0.8983 - val_accuracy: 0.7040\n",
      "Epoch 12/100\n",
      "42934/42934 [==============================] - 36s 834us/step - loss: 1.1085 - accuracy: 0.6055 - val_loss: 0.8998 - val_accuracy: 0.7042\n",
      "Epoch 13/100\n",
      "42934/42934 [==============================] - 32s 747us/step - loss: 1.0858 - accuracy: 0.6179 - val_loss: 0.8180 - val_accuracy: 0.7367\n",
      "Epoch 14/100\n",
      "42934/42934 [==============================] - 32s 751us/step - loss: 1.0589 - accuracy: 0.6242 - val_loss: 0.8507 - val_accuracy: 0.7240\n",
      "Epoch 15/100\n",
      "42934/42934 [==============================] - 32s 735us/step - loss: 1.0421 - accuracy: 0.6337 - val_loss: 0.7646 - val_accuracy: 0.7449\n",
      "Epoch 16/100\n",
      "42934/42934 [==============================] - 31s 729us/step - loss: 1.0243 - accuracy: 0.6374 - val_loss: 0.7742 - val_accuracy: 0.7452\n",
      "Epoch 17/100\n",
      "42934/42934 [==============================] - 35s 816us/step - loss: 1.0121 - accuracy: 0.6423 - val_loss: 0.8093 - val_accuracy: 0.7270\n",
      "Epoch 18/100\n",
      "42934/42934 [==============================] - 33s 768us/step - loss: 0.9998 - accuracy: 0.6486 - val_loss: 0.7849 - val_accuracy: 0.7455\n",
      "Epoch 19/100\n",
      "42934/42934 [==============================] - 32s 748us/step - loss: 0.9826 - accuracy: 0.6520 - val_loss: 0.7338 - val_accuracy: 0.7534\n",
      "Epoch 20/100\n",
      "42934/42934 [==============================] - 33s 780us/step - loss: 0.9622 - accuracy: 0.6571 - val_loss: 0.7395 - val_accuracy: 0.7488\n",
      "Epoch 21/100\n",
      "42934/42934 [==============================] - 35s 809us/step - loss: 0.9695 - accuracy: 0.6567 - val_loss: 0.7836 - val_accuracy: 0.7481\n",
      "Epoch 22/100\n",
      "42934/42934 [==============================] - 33s 769us/step - loss: 0.9554 - accuracy: 0.6604 - val_loss: 0.7294 - val_accuracy: 0.7647\n",
      "Epoch 23/100\n",
      "42934/42934 [==============================] - 34s 800us/step - loss: 0.9388 - accuracy: 0.6685 - val_loss: 0.7234 - val_accuracy: 0.7698\n",
      "Epoch 24/100\n",
      "42934/42934 [==============================] - 33s 770us/step - loss: 0.9227 - accuracy: 0.6736 - val_loss: 0.6582 - val_accuracy: 0.7797\n",
      "Epoch 25/100\n",
      "42934/42934 [==============================] - 33s 765us/step - loss: 0.9221 - accuracy: 0.6735 - val_loss: 0.6555 - val_accuracy: 0.7866\n",
      "Epoch 26/100\n",
      "42934/42934 [==============================] - 33s 775us/step - loss: 0.9110 - accuracy: 0.6823 - val_loss: 0.6929 - val_accuracy: 0.7731\n",
      "Epoch 27/100\n",
      "42934/42934 [==============================] - 33s 779us/step - loss: 0.8979 - accuracy: 0.6855 - val_loss: 0.6787 - val_accuracy: 0.7762\n",
      "Epoch 28/100\n",
      "42934/42934 [==============================] - 33s 765us/step - loss: 0.8956 - accuracy: 0.6847 - val_loss: 0.6662 - val_accuracy: 0.7843\n",
      "Epoch 29/100\n",
      "42934/42934 [==============================] - 34s 782us/step - loss: 0.8872 - accuracy: 0.6882 - val_loss: 0.6609 - val_accuracy: 0.7770\n",
      "Epoch 30/100\n",
      "42934/42934 [==============================] - 34s 791us/step - loss: 0.8767 - accuracy: 0.6912 - val_loss: 0.6559 - val_accuracy: 0.7890\n",
      "Epoch 31/100\n",
      "42934/42934 [==============================] - 33s 766us/step - loss: 0.8657 - accuracy: 0.6989 - val_loss: 0.6528 - val_accuracy: 0.7870\n",
      "Epoch 32/100\n",
      "42934/42934 [==============================] - 36s 829us/step - loss: 0.8637 - accuracy: 0.6948 - val_loss: 0.6641 - val_accuracy: 0.7867\n",
      "Epoch 33/100\n",
      "42934/42934 [==============================] - 34s 784us/step - loss: 0.8604 - accuracy: 0.6981 - val_loss: 0.6267 - val_accuracy: 0.8004\n",
      "Epoch 34/100\n",
      "42934/42934 [==============================] - 36s 848us/step - loss: 0.8466 - accuracy: 0.6994 - val_loss: 0.6541 - val_accuracy: 0.7858\n",
      "Epoch 35/100\n",
      "42934/42934 [==============================] - 37s 858us/step - loss: 0.8413 - accuracy: 0.7033 - val_loss: 0.6745 - val_accuracy: 0.7875\n",
      "Epoch 36/100\n",
      "42934/42934 [==============================] - 35s 824us/step - loss: 0.8445 - accuracy: 0.7042 - val_loss: 0.6416 - val_accuracy: 0.7892\n",
      "Epoch 37/100\n",
      "42934/42934 [==============================] - 39s 900us/step - loss: 0.8391 - accuracy: 0.7052 - val_loss: 0.7004 - val_accuracy: 0.7667\n",
      "Epoch 38/100\n",
      "42934/42934 [==============================] - 38s 883us/step - loss: 0.8378 - accuracy: 0.7073 - val_loss: 0.6287 - val_accuracy: 0.7984\n",
      "Epoch 39/100\n",
      "42934/42934 [==============================] - 35s 821us/step - loss: 0.8245 - accuracy: 0.7104 - val_loss: 0.6157 - val_accuracy: 0.7988\n",
      "Epoch 40/100\n",
      "42934/42934 [==============================] - 37s 861us/step - loss: 0.8283 - accuracy: 0.7106 - val_loss: 0.6552 - val_accuracy: 0.7849\n",
      "Epoch 41/100\n",
      "42934/42934 [==============================] - 34s 781us/step - loss: 0.8204 - accuracy: 0.7129 - val_loss: 0.6746 - val_accuracy: 0.7880\n",
      "Epoch 42/100\n",
      "42934/42934 [==============================] - 34s 788us/step - loss: 0.8193 - accuracy: 0.7137 - val_loss: 0.6144 - val_accuracy: 0.8030\n",
      "Epoch 43/100\n",
      "42934/42934 [==============================] - 35s 824us/step - loss: 0.8094 - accuracy: 0.7144 - val_loss: 0.6775 - val_accuracy: 0.7853\n",
      "Epoch 44/100\n",
      "42934/42934 [==============================] - 36s 835us/step - loss: 0.8066 - accuracy: 0.7155 - val_loss: 0.6544 - val_accuracy: 0.7845\n",
      "Epoch 45/100\n",
      "42934/42934 [==============================] - 39s 902us/step - loss: 0.8147 - accuracy: 0.7130 - val_loss: 0.6846 - val_accuracy: 0.7878\n",
      "Epoch 46/100\n",
      "42934/42934 [==============================] - 37s 856us/step - loss: 0.8031 - accuracy: 0.7165 - val_loss: 0.6251 - val_accuracy: 0.7931\n",
      "Epoch 47/100\n",
      "42934/42934 [==============================] - 36s 837us/step - loss: 0.7994 - accuracy: 0.7195 - val_loss: 0.6502 - val_accuracy: 0.7949\n",
      "Epoch 48/100\n",
      "42934/42934 [==============================] - 36s 839us/step - loss: 0.8048 - accuracy: 0.7179 - val_loss: 0.5793 - val_accuracy: 0.8113\n",
      "Epoch 49/100\n",
      "42934/42934 [==============================] - 37s 868us/step - loss: 0.7878 - accuracy: 0.7209 - val_loss: 0.6259 - val_accuracy: 0.7979\n",
      "Epoch 50/100\n",
      "42934/42934 [==============================] - 36s 828us/step - loss: 0.7889 - accuracy: 0.7226 - val_loss: 0.6097 - val_accuracy: 0.8105\n",
      "Epoch 51/100\n",
      "42934/42934 [==============================] - 37s 857us/step - loss: 0.8006 - accuracy: 0.7184 - val_loss: 0.6683 - val_accuracy: 0.7879\n",
      "Epoch 52/100\n",
      "42934/42934 [==============================] - 34s 796us/step - loss: 0.7915 - accuracy: 0.7243 - val_loss: 0.6277 - val_accuracy: 0.7983\n",
      "Epoch 53/100\n",
      "42934/42934 [==============================] - 36s 827us/step - loss: 0.7906 - accuracy: 0.7239 - val_loss: 0.5649 - val_accuracy: 0.8178\n",
      "Epoch 54/100\n",
      "42934/42934 [==============================] - 34s 794us/step - loss: 0.7814 - accuracy: 0.7218 - val_loss: 0.6395 - val_accuracy: 0.7932\n",
      "Epoch 55/100\n"
     ]
    },
    {
     "name": "stdout",
     "output_type": "stream",
     "text": [
      "42934/42934 [==============================] - 36s 842us/step - loss: 0.7886 - accuracy: 0.7238 - val_loss: 0.6381 - val_accuracy: 0.7967\n",
      "Epoch 56/100\n",
      "42934/42934 [==============================] - 33s 773us/step - loss: 0.7729 - accuracy: 0.7279 - val_loss: 0.5738 - val_accuracy: 0.8168\n",
      "Epoch 57/100\n",
      "42934/42934 [==============================] - 33s 765us/step - loss: 0.7767 - accuracy: 0.7243 - val_loss: 0.6479 - val_accuracy: 0.8013\n",
      "Epoch 58/100\n",
      "42934/42934 [==============================] - 36s 829us/step - loss: 0.7710 - accuracy: 0.7287 - val_loss: 0.6214 - val_accuracy: 0.8028\n",
      "Epoch 59/100\n",
      "42934/42934 [==============================] - 34s 797us/step - loss: 0.7773 - accuracy: 0.7266 - val_loss: 0.6366 - val_accuracy: 0.7943\n",
      "Epoch 60/100\n",
      "42934/42934 [==============================] - 34s 788us/step - loss: 0.7680 - accuracy: 0.7299 - val_loss: 0.6391 - val_accuracy: 0.8011\n",
      "Epoch 61/100\n",
      "42934/42934 [==============================] - 34s 786us/step - loss: 0.7687 - accuracy: 0.7282 - val_loss: 0.6226 - val_accuracy: 0.7979\n",
      "Epoch 62/100\n",
      "42934/42934 [==============================] - 32s 745us/step - loss: 0.7604 - accuracy: 0.7325 - val_loss: 0.5659 - val_accuracy: 0.8193\n",
      "Epoch 63/100\n",
      "42934/42934 [==============================] - 33s 762us/step - loss: 0.7606 - accuracy: 0.7339 - val_loss: 0.5797 - val_accuracy: 0.8103\n",
      "Epoch 64/100\n",
      "42934/42934 [==============================] - 35s 818us/step - loss: 0.7613 - accuracy: 0.7328 - val_loss: 0.5623 - val_accuracy: 0.8211\n",
      "Epoch 65/100\n",
      "42934/42934 [==============================] - 32s 751us/step - loss: 0.7573 - accuracy: 0.7334 - val_loss: 0.6199 - val_accuracy: 0.8054\n",
      "Epoch 66/100\n",
      "42934/42934 [==============================] - 34s 802us/step - loss: 0.7573 - accuracy: 0.7314 - val_loss: 0.5720 - val_accuracy: 0.8185\n",
      "Epoch 67/100\n",
      "42934/42934 [==============================] - 33s 765us/step - loss: 0.7539 - accuracy: 0.7361 - val_loss: 0.6382 - val_accuracy: 0.8003\n",
      "Epoch 68/100\n",
      "42934/42934 [==============================] - 33s 772us/step - loss: 0.7500 - accuracy: 0.7333 - val_loss: 0.5776 - val_accuracy: 0.8164\n",
      "Epoch 69/100\n",
      "42934/42934 [==============================] - 34s 795us/step - loss: 0.7464 - accuracy: 0.7354 - val_loss: 0.5695 - val_accuracy: 0.8219\n",
      "Epoch 70/100\n",
      "42934/42934 [==============================] - 33s 763us/step - loss: 0.7532 - accuracy: 0.7351 - val_loss: 0.6598 - val_accuracy: 0.7983\n",
      "Epoch 71/100\n",
      "42934/42934 [==============================] - 34s 786us/step - loss: 0.7455 - accuracy: 0.7393 - val_loss: 0.6809 - val_accuracy: 0.7974\n",
      "Epoch 72/100\n",
      "42934/42934 [==============================] - 34s 784us/step - loss: 0.7508 - accuracy: 0.7344 - val_loss: 0.5502 - val_accuracy: 0.8253\n",
      "Epoch 73/100\n",
      "42934/42934 [==============================] - 33s 762us/step - loss: 0.7462 - accuracy: 0.7380 - val_loss: 0.6155 - val_accuracy: 0.8044\n",
      "Epoch 74/100\n",
      "42934/42934 [==============================] - 34s 790us/step - loss: 0.7496 - accuracy: 0.7377 - val_loss: 0.5950 - val_accuracy: 0.8072\n",
      "Epoch 75/100\n",
      "42934/42934 [==============================] - 33s 763us/step - loss: 0.7479 - accuracy: 0.7380 - val_loss: 0.5788 - val_accuracy: 0.8125\n",
      "Epoch 76/100\n",
      "42934/42934 [==============================] - 33s 768us/step - loss: 0.7425 - accuracy: 0.7403 - val_loss: 0.5490 - val_accuracy: 0.8212\n",
      "Epoch 77/100\n",
      "42934/42934 [==============================] - 34s 781us/step - loss: 0.7390 - accuracy: 0.7364 - val_loss: 0.6470 - val_accuracy: 0.7990\n",
      "Epoch 78/100\n",
      "42934/42934 [==============================] - 33s 761us/step - loss: 0.7362 - accuracy: 0.7404 - val_loss: 0.5903 - val_accuracy: 0.8122\n",
      "Epoch 79/100\n",
      "42934/42934 [==============================] - 33s 775us/step - loss: 0.7384 - accuracy: 0.7380 - val_loss: 0.6075 - val_accuracy: 0.8109\n",
      "Epoch 80/100\n",
      "42934/42934 [==============================] - 33s 776us/step - loss: 0.7418 - accuracy: 0.7388 - val_loss: 0.6227 - val_accuracy: 0.8034\n",
      "Epoch 81/100\n",
      "42934/42934 [==============================] - 33s 764us/step - loss: 0.7306 - accuracy: 0.7420 - val_loss: 0.6031 - val_accuracy: 0.8106\n",
      "Epoch 82/100\n",
      "42934/42934 [==============================] - 34s 788us/step - loss: 0.7398 - accuracy: 0.7416 - val_loss: 0.5934 - val_accuracy: 0.8095\n",
      "Epoch 83/100\n",
      "42934/42934 [==============================] - 34s 782us/step - loss: 0.7390 - accuracy: 0.7412 - val_loss: 0.5954 - val_accuracy: 0.8101\n",
      "Epoch 84/100\n",
      "42934/42934 [==============================] - 33s 770us/step - loss: 0.7345 - accuracy: 0.7415 - val_loss: 0.5181 - val_accuracy: 0.8301\n",
      "Epoch 85/100\n",
      "42934/42934 [==============================] - 35s 808us/step - loss: 0.7248 - accuracy: 0.7446 - val_loss: 0.6095 - val_accuracy: 0.8150\n",
      "Epoch 86/100\n",
      "42934/42934 [==============================] - 33s 777us/step - loss: 0.7292 - accuracy: 0.7449 - val_loss: 0.5477 - val_accuracy: 0.8232\n",
      "Epoch 87/100\n",
      "42934/42934 [==============================] - 34s 795us/step - loss: 0.7200 - accuracy: 0.7468 - val_loss: 0.6315 - val_accuracy: 0.8061\n",
      "Epoch 88/100\n",
      "42934/42934 [==============================] - 33s 773us/step - loss: 0.7201 - accuracy: 0.7484 - val_loss: 0.5486 - val_accuracy: 0.8218\n",
      "Epoch 89/100\n",
      "42934/42934 [==============================] - 33s 766us/step - loss: 0.7243 - accuracy: 0.7445 - val_loss: 0.5511 - val_accuracy: 0.8265\n",
      "Epoch 90/100\n",
      "42934/42934 [==============================] - 34s 800us/step - loss: 0.7267 - accuracy: 0.7449 - val_loss: 0.6132 - val_accuracy: 0.8046\n",
      "Epoch 91/100\n",
      "42934/42934 [==============================] - 33s 761us/step - loss: 0.7325 - accuracy: 0.7425 - val_loss: 0.5886 - val_accuracy: 0.8179\n",
      "Epoch 92/100\n",
      "42934/42934 [==============================] - 33s 765us/step - loss: 0.7218 - accuracy: 0.7457 - val_loss: 0.5343 - val_accuracy: 0.8288\n",
      "Epoch 93/100\n",
      "42934/42934 [==============================] - 34s 787us/step - loss: 0.7261 - accuracy: 0.7460 - val_loss: 0.5800 - val_accuracy: 0.8161\n",
      "Epoch 94/100\n",
      "42934/42934 [==============================] - 33s 776us/step - loss: 0.7240 - accuracy: 0.7468 - val_loss: 0.6412 - val_accuracy: 0.7983\n",
      "Epoch 95/100\n",
      "42934/42934 [==============================] - 35s 805us/step - loss: 0.7160 - accuracy: 0.7478 - val_loss: 0.5679 - val_accuracy: 0.8229\n",
      "Epoch 96/100\n",
      "42934/42934 [==============================] - 33s 779us/step - loss: 0.7214 - accuracy: 0.7483 - val_loss: 0.5902 - val_accuracy: 0.8094\n",
      "Epoch 97/100\n",
      "42934/42934 [==============================] - 33s 771us/step - loss: 0.7159 - accuracy: 0.7471 - val_loss: 0.5525 - val_accuracy: 0.8224\n",
      "Epoch 98/100\n",
      "42934/42934 [==============================] - 34s 791us/step - loss: 0.7128 - accuracy: 0.7507 - val_loss: 0.5610 - val_accuracy: 0.8210\n",
      "Epoch 99/100\n",
      "42934/42934 [==============================] - 33s 762us/step - loss: 0.7099 - accuracy: 0.7491 - val_loss: 0.5484 - val_accuracy: 0.8243\n",
      "Epoch 100/100\n",
      "42934/42934 [==============================] - 34s 791us/step - loss: 0.7178 - accuracy: 0.7483 - val_loss: 0.6085 - val_accuracy: 0.8118\n",
      "dict_keys(['val_loss', 'val_accuracy', 'loss', 'accuracy'])\n"
     ]
    }
   ],
   "source": [
    "history = model.fit(np.array(XTrain), np.array(YTrain), batch_size=20, epochs=100, validation_data=(np.array(XTest), np.array(YTest)))\n",
    "# list all data in history run for 300 epochs\n",
    "print(history.history.keys())"
   ]
  },
  {
   "cell_type": "code",
   "execution_count": 33,
   "metadata": {},
   "outputs": [
    {
     "data": {
      "image/png": "[encoded data removed]",
      "text/plain": [
       "<Figure size 432x288 with 1 Axes>"
      ]
     },
     "metadata": {
      "needs_background": "light"
     },
     "output_type": "display_data"
    },
    {
     "data": {
      "image/png": "[encoded data removed]",
      "text/plain": [
       "<Figure size 432x288 with 1 Axes>"
      ]
     },
     "metadata": {
      "needs_background": "light"
     },
     "output_type": "display_data"
    }
   ],
   "source": [
    "plt.plot(history.history['accuracy'])\n",
    "plt.plot(history.history['val_accuracy'])\n",
    "plt.title('model accuracy')\n",
    "plt.ylabel('accuracy')\n",
    "plt.xlabel('epoch')\n",
    "plt.legend(['train', 'test'], loc='upper left')\n",
    "plt.show()\n",
    "# summarize history for loss\n",
    "plt.plot(history.history['loss'])\n",
    "plt.plot(history.history['val_loss'])\n",
    "plt.title('model loss')\n",
    "plt.ylabel('loss')\n",
    "plt.xlabel('epoch')\n",
    "plt.legend(['train', 'test'], loc='upper left')\n",
    "plt.show()"
   ]
  },
  {
   "cell_type": "code",
   "execution_count": 34,
   "metadata": {},
   "outputs": [],
   "source": [
    "model.save(\"Experiments/AUG_model.h5\")"
   ]
  },
  {
   "cell_type": "code",
   "execution_count": 15,
   "metadata": {},
   "outputs": [
    {
     "name": "stdout",
     "output_type": "stream",
     "text": [
      "WARNING:tensorflow:From d:\\installfiles\\python\\python37\\lib\\site-packages\\keras\\backend\\tensorflow_backend.py:422: The name tf.global_variables is deprecated. Please use tf.compat.v1.global_variables instead.\n",
      "\n"
     ]
    }
   ],
   "source": [
    "model = load_model(\"Experiments\\AUG_model.h5\")"
   ]
  },
  {
   "cell_type": "code",
   "execution_count": 16,
   "metadata": {},
   "outputs": [
    {
     "name": "stdout",
     "output_type": "stream",
     "text": [
      "              precision    recall  f1-score   support\n",
      "\n",
      "           0       0.62      0.91      0.74      1529\n",
      "           1       0.91      0.87      0.89       389\n",
      "           2       0.90      0.79      0.84      1528\n",
      "           3       0.97      0.82      0.89      1168\n",
      "           4       0.88      0.77      0.82      1351\n",
      "           5       0.84      0.84      0.84      1449\n",
      "           6       0.85      0.94      0.89       212\n",
      "           7       0.73      0.87      0.79      1368\n",
      "           8       0.97      0.87      0.92      1391\n",
      "           9       0.93      0.80      0.86      1493\n",
      "          10       0.89      0.94      0.91      1698\n",
      "          11       0.92      0.71      0.80       736\n",
      "\n",
      "    accuracy                           0.84     14312\n",
      "   macro avg       0.87      0.84      0.85     14312\n",
      "weighted avg       0.86      0.84      0.84     14312\n",
      "\n",
      "[[1390    1   14    4    8   30    0   56    0   26    0    0]\n",
      " [   9  339    0    0   14    5    0   18    0    4    0    0]\n",
      " [ 119    1 1204   13   22   61    6   49    8   40    4    1]\n",
      " [  74    0   39  963   19   30   10   13    7   10    3    0]\n",
      " [  70    3    7    5 1035   40    8  176    3    0    4    0]\n",
      " [ 191    0    2    2    3 1211    0   35    0    5    0    0]\n",
      " [   9    0    0    2    1    0  199    0    0    1    0    0]\n",
      " [ 159    0    0    0    7   18    0 1184    0    0    0    0]\n",
      " [  64    4   15    2   13   29    0   53 1207    1    3    0]\n",
      " [ 166   25   51    2   13   11    1   18    9 1196    1    0]\n",
      " [   0    0    1    3   25    2    9   20    3    3 1589   43]\n",
      " [   0    0    1    1   19    0    1    5    1    1  187  520]]\n"
     ]
    }
   ],
   "source": [
    "from sklearn.metrics import classification_report, confusion_matrix\n",
    "import numpy as np\n",
    "\n",
    "#Test Set Metrics\n",
    "Y_test = np.argmax(YTest, axis=1) # Convert one-hot to index\n",
    "y_pred = model.predict_classes(XTest)\n",
    "print(classification_report(Y_test, y_pred))\n",
    "print(confusion_matrix(Y_test, y_pred))"
   ]
  },
  {
   "cell_type": "code",
   "execution_count": null,
   "metadata": {},
   "outputs": [],
   "source": []
  },
  {
   "cell_type": "code",
   "execution_count": 17,
   "metadata": {},
   "outputs": [],
   "source": [
    "class_names = ['air_conditioner','car_horn','children_playing','dog_bark','drilling','engine_idling','gun_shot','jackhammer','siren','street_music','chimp_shriek','chimp_hoot']"
   ]
  },
  {
   "cell_type": "code",
   "execution_count": 18,
   "metadata": {},
   "outputs": [
    {
     "name": "stdout",
     "output_type": "stream",
     "text": [
      "Confusion matrix, without normalization\n",
      "[[1390    1   14    4    8   30    0   56    0   26    0    0]\n",
      " [   9  339    0    0   14    5    0   18    0    4    0    0]\n",
      " [ 119    1 1204   13   22   61    6   49    8   40    4    1]\n",
      " [  74    0   39  963   19   30   10   13    7   10    3    0]\n",
      " [  70    3    7    5 1035   40    8  176    3    0    4    0]\n",
      " [ 191    0    2    2    3 1211    0   35    0    5    0    0]\n",
      " [   9    0    0    2    1    0  199    0    0    1    0    0]\n",
      " [ 159    0    0    0    7   18    0 1184    0    0    0    0]\n",
      " [  64    4   15    2   13   29    0   53 1207    1    3    0]\n",
      " [ 166   25   51    2   13   11    1   18    9 1196    1    0]\n",
      " [   0    0    1    3   25    2    9   20    3    3 1589   43]\n",
      " [   0    0    1    1   19    0    1    5    1    1  187  520]]\n",
      "Normalized confusion matrix\n",
      "[[9.09e-01 6.54e-04 9.16e-03 2.62e-03 5.23e-03 1.96e-02 0.00e+00 3.66e-02\n",
      "  0.00e+00 1.70e-02 0.00e+00 0.00e+00]\n",
      " [2.31e-02 8.71e-01 0.00e+00 0.00e+00 3.60e-02 1.29e-02 0.00e+00 4.63e-02\n",
      "  0.00e+00 1.03e-02 0.00e+00 0.00e+00]\n",
      " [7.79e-02 6.54e-04 7.88e-01 8.51e-03 1.44e-02 3.99e-02 3.93e-03 3.21e-02\n",
      "  5.24e-03 2.62e-02 2.62e-03 6.54e-04]\n",
      " [6.34e-02 0.00e+00 3.34e-02 8.24e-01 1.63e-02 2.57e-02 8.56e-03 1.11e-02\n",
      "  5.99e-03 8.56e-03 2.57e-03 0.00e+00]\n",
      " [5.18e-02 2.22e-03 5.18e-03 3.70e-03 7.66e-01 2.96e-02 5.92e-03 1.30e-01\n",
      "  2.22e-03 0.00e+00 2.96e-03 0.00e+00]\n",
      " [1.32e-01 0.00e+00 1.38e-03 1.38e-03 2.07e-03 8.36e-01 0.00e+00 2.42e-02\n",
      "  0.00e+00 3.45e-03 0.00e+00 0.00e+00]\n",
      " [4.25e-02 0.00e+00 0.00e+00 9.43e-03 4.72e-03 0.00e+00 9.39e-01 0.00e+00\n",
      "  0.00e+00 4.72e-03 0.00e+00 0.00e+00]\n",
      " [1.16e-01 0.00e+00 0.00e+00 0.00e+00 5.12e-03 1.32e-02 0.00e+00 8.65e-01\n",
      "  0.00e+00 0.00e+00 0.00e+00 0.00e+00]\n",
      " [4.60e-02 2.88e-03 1.08e-02 1.44e-03 9.35e-03 2.08e-02 0.00e+00 3.81e-02\n",
      "  8.68e-01 7.19e-04 2.16e-03 0.00e+00]\n",
      " [1.11e-01 1.67e-02 3.42e-02 1.34e-03 8.71e-03 7.37e-03 6.70e-04 1.21e-02\n",
      "  6.03e-03 8.01e-01 6.70e-04 0.00e+00]\n",
      " [0.00e+00 0.00e+00 5.89e-04 1.77e-03 1.47e-02 1.18e-03 5.30e-03 1.18e-02\n",
      "  1.77e-03 1.77e-03 9.36e-01 2.53e-02]\n",
      " [0.00e+00 0.00e+00 1.36e-03 1.36e-03 2.58e-02 0.00e+00 1.36e-03 6.79e-03\n",
      "  1.36e-03 1.36e-03 2.54e-01 7.07e-01]]\n"
     ]
    },
    {
     "data": {
      "image/png": "[encoded data removed]",
      "text/plain": [
       "<Figure size 684x396 with 2 Axes>"
      ]
     },
     "metadata": {
      "needs_background": "light"
     },
     "output_type": "display_data"
    },
    {
     "data": {
      "image/png": "[encoded data removed]",
      "text/plain": [
       "<Figure size 684x396 with 2 Axes>"
      ]
     },
     "metadata": {
      "needs_background": "light"
     },
     "output_type": "display_data"
    }
   ],
   "source": [
    "\n",
    "\n",
    "y_pred = model.predict_classes(XTest)\n",
    "#classifier.fit(X_train, y_train).predict(X_test)\n",
    "\n",
    "\n",
    "def plot_confusion_matrix(Y_test, y_pred, classes,\n",
    "                          normalize=False,\n",
    "                          title=None,\n",
    "                          cmap=plt.cm.Blues):\n",
    "    \"\"\"\n",
    "    This function prints and plots the confusion matrix.\n",
    "    Normalization can be applied by setting `normalize=True`.\n",
    "    \"\"\"\n",
    "#     if not title:\n",
    "#         if normalize:\n",
    "#             title = 'Normalized confusion matrix'\n",
    "#         else:\n",
    "#             title = 'Confusion matrix, without normalization'\n",
    "\n",
    "    # Compute confusion matrix\n",
    "    cm = confusion_matrix(Y_test, y_pred)\n",
    "    # Only use the labels that appear in the data\n",
    "    classes = class_names\n",
    "    if normalize:\n",
    "        cm = cm.astype('float') / cm.sum(axis=1)[:, np.newaxis]\n",
    "        print(\"Normalized confusion matrix\")\n",
    "    else:\n",
    "        print('Confusion matrix, without normalization')\n",
    "\n",
    "    print(cm)\n",
    "\n",
    "    fig, ax = plt.subplots()\n",
    "    im = ax.imshow(cm, interpolation='nearest', cmap=cmap)\n",
    "    ax.figure.colorbar(im, ax=ax)\n",
    "    ax.figure.set_size_inches(9.5, 5.5)\n",
    "    # We want to show all ticks...\n",
    "    ax.set(xticks=np.arange(cm.shape[1]),\n",
    "           yticks=np.arange(cm.shape[0]),\n",
    "           # ... and label them with the respective list entries\n",
    "           xticklabels=classes, yticklabels=classes,\n",
    "           title=title,\n",
    "           ylabel='True label',\n",
    "           xlabel='Predicted label')\n",
    "\n",
    "    # Rotate the tick labels and set their alignment.\n",
    "    plt.setp(ax.get_xticklabels(), rotation=45, ha=\"right\",\n",
    "             rotation_mode=\"anchor\")\n",
    "\n",
    "    # Loop over data dimensions and create text annotations.\n",
    "    fmt = '.2f' if normalize else 'd'\n",
    "    thresh = cm.max() / 2.\n",
    "    for i in range(cm.shape[0]):\n",
    "        for j in range(cm.shape[1]):\n",
    "            ax.text(j, i, format(cm[i, j], fmt),\n",
    "                    ha=\"center\", va=\"center\",\n",
    "                    color=\"white\" if cm[i, j] > thresh else \"black\")\n",
    "    fig.tight_layout()\n",
    "    return ax\n",
    "\n",
    "\n",
    "np.set_printoptions(precision=2)\n",
    "\n",
    "# Plot non-normalized confusion matrix\n",
    "plot_confusion_matrix(Y_test, y_pred, classes=class_names,\n",
    "                      title='')\n",
    "\n",
    "# Plot normalized confusion matrix\n",
    "plot_confusion_matrix(Y_test, y_pred, classes=class_names, normalize=True,\n",
    "                      title='')\n",
    "\n",
    "plt.show()"
   ]
  },
  {
   "cell_type": "code",
   "execution_count": 19,
   "metadata": {},
   "outputs": [],
   "source": [
    "def load_sound_files(file_paths):\n",
    "\n",
    "    X,sr = librosa.load(file_paths, sr=11025)\n",
    "    #, res_type='kaiser_fast'\n",
    "    #mfccs=np.mean(librosa.feature.mfcc(y=X,sr=sr,n_mfcc=40).T,axis=0)\n",
    "    mfccs=librosa.feature.mfcc(y=X,sr=sr,n_mfcc=40)\n",
    "\n",
    "    return mfccs"
   ]
  },
  {
   "cell_type": "code",
   "execution_count": null,
   "metadata": {},
   "outputs": [],
   "source": [
    "for i in range(1,10):\n",
    "    k = \"E:/ChanuThesis/Raw sounds/Chimps_september/test_cases/test_cases_0{}.wav\".format(i)\n",
    "\n",
    "    inf=load_sound_files(k)\n",
    "\n",
    "    inf = np.array(inf).reshape(1, 40, 87, 1)\n",
    "\n",
    "    inf_pred = model.predict_proba(np.array(inf))\n",
    "    print(i, model.predict_classes(np.array(inf)), max(inf_pred[0]))"
   ]
  },
  {
   "cell_type": "code",
   "execution_count": 21,
   "metadata": {},
   "outputs": [
    {
     "ename": "FileNotFoundError",
     "evalue": "[Errno 2] No such file or directory: 'E:/ChanuThesis/Raw sounds/Chimps_september/test_cases/test_cases_10.wav'",
     "output_type": "error",
     "traceback": [
      "\u001b[1;31m---------------------------------------------------------------------------\u001b[0m",
      "\u001b[1;31mRuntimeError\u001b[0m                              Traceback (most recent call last)",
      "\u001b[1;32md:\\installfiles\\python\\python37\\lib\\site-packages\\librosa\\core\\audio.py\u001b[0m in \u001b[0;36mload\u001b[1;34m(path, sr, mono, offset, duration, dtype, res_type)\u001b[0m\n\u001b[0;32m    126\u001b[0m     \u001b[1;32mtry\u001b[0m\u001b[1;33m:\u001b[0m\u001b[1;33m\u001b[0m\u001b[1;33m\u001b[0m\u001b[0m\n\u001b[1;32m--> 127\u001b[1;33m         \u001b[1;32mwith\u001b[0m \u001b[0msf\u001b[0m\u001b[1;33m.\u001b[0m\u001b[0mSoundFile\u001b[0m\u001b[1;33m(\u001b[0m\u001b[0mpath\u001b[0m\u001b[1;33m)\u001b[0m \u001b[1;32mas\u001b[0m \u001b[0msf_desc\u001b[0m\u001b[1;33m:\u001b[0m\u001b[1;33m\u001b[0m\u001b[1;33m\u001b[0m\u001b[0m\n\u001b[0m\u001b[0;32m    128\u001b[0m             \u001b[0msr_native\u001b[0m \u001b[1;33m=\u001b[0m \u001b[0msf_desc\u001b[0m\u001b[1;33m.\u001b[0m\u001b[0msamplerate\u001b[0m\u001b[1;33m\u001b[0m\u001b[1;33m\u001b[0m\u001b[0m\n",
      "\u001b[1;32md:\\installfiles\\python\\python37\\lib\\site-packages\\soundfile.py\u001b[0m in \u001b[0;36m__init__\u001b[1;34m(self, file, mode, samplerate, channels, subtype, endian, format, closefd)\u001b[0m\n\u001b[0;32m    626\u001b[0m                                          format, subtype, endian)\n\u001b[1;32m--> 627\u001b[1;33m         \u001b[0mself\u001b[0m\u001b[1;33m.\u001b[0m\u001b[0m_file\u001b[0m \u001b[1;33m=\u001b[0m \u001b[0mself\u001b[0m\u001b[1;33m.\u001b[0m\u001b[0m_open\u001b[0m\u001b[1;33m(\u001b[0m\u001b[0mfile\u001b[0m\u001b[1;33m,\u001b[0m \u001b[0mmode_int\u001b[0m\u001b[1;33m,\u001b[0m \u001b[0mclosefd\u001b[0m\u001b[1;33m)\u001b[0m\u001b[1;33m\u001b[0m\u001b[1;33m\u001b[0m\u001b[0m\n\u001b[0m\u001b[0;32m    628\u001b[0m         \u001b[1;32mif\u001b[0m \u001b[0mset\u001b[0m\u001b[1;33m(\u001b[0m\u001b[0mmode\u001b[0m\u001b[1;33m)\u001b[0m\u001b[1;33m.\u001b[0m\u001b[0missuperset\u001b[0m\u001b[1;33m(\u001b[0m\u001b[1;34m'r+'\u001b[0m\u001b[1;33m)\u001b[0m \u001b[1;32mand\u001b[0m \u001b[0mself\u001b[0m\u001b[1;33m.\u001b[0m\u001b[0mseekable\u001b[0m\u001b[1;33m(\u001b[0m\u001b[1;33m)\u001b[0m\u001b[1;33m:\u001b[0m\u001b[1;33m\u001b[0m\u001b[1;33m\u001b[0m\u001b[0m\n",
      "\u001b[1;32md:\\installfiles\\python\\python37\\lib\\site-packages\\soundfile.py\u001b[0m in \u001b[0;36m_open\u001b[1;34m(self, file, mode_int, closefd)\u001b[0m\n\u001b[0;32m   1181\u001b[0m         _error_check(_snd.sf_error(file_ptr),\n\u001b[1;32m-> 1182\u001b[1;33m                      \"Error opening {0!r}: \".format(self.name))\n\u001b[0m\u001b[0;32m   1183\u001b[0m         \u001b[1;32mif\u001b[0m \u001b[0mmode_int\u001b[0m \u001b[1;33m==\u001b[0m \u001b[0m_snd\u001b[0m\u001b[1;33m.\u001b[0m\u001b[0mSFM_WRITE\u001b[0m\u001b[1;33m:\u001b[0m\u001b[1;33m\u001b[0m\u001b[1;33m\u001b[0m\u001b[0m\n",
      "\u001b[1;32md:\\installfiles\\python\\python37\\lib\\site-packages\\soundfile.py\u001b[0m in \u001b[0;36m_error_check\u001b[1;34m(err, prefix)\u001b[0m\n\u001b[0;32m   1354\u001b[0m         \u001b[0merr_str\u001b[0m \u001b[1;33m=\u001b[0m \u001b[0m_snd\u001b[0m\u001b[1;33m.\u001b[0m\u001b[0msf_error_number\u001b[0m\u001b[1;33m(\u001b[0m\u001b[0merr\u001b[0m\u001b[1;33m)\u001b[0m\u001b[1;33m\u001b[0m\u001b[1;33m\u001b[0m\u001b[0m\n\u001b[1;32m-> 1355\u001b[1;33m         \u001b[1;32mraise\u001b[0m \u001b[0mRuntimeError\u001b[0m\u001b[1;33m(\u001b[0m\u001b[0mprefix\u001b[0m \u001b[1;33m+\u001b[0m \u001b[0m_ffi\u001b[0m\u001b[1;33m.\u001b[0m\u001b[0mstring\u001b[0m\u001b[1;33m(\u001b[0m\u001b[0merr_str\u001b[0m\u001b[1;33m)\u001b[0m\u001b[1;33m.\u001b[0m\u001b[0mdecode\u001b[0m\u001b[1;33m(\u001b[0m\u001b[1;34m'utf-8'\u001b[0m\u001b[1;33m,\u001b[0m \u001b[1;34m'replace'\u001b[0m\u001b[1;33m)\u001b[0m\u001b[1;33m)\u001b[0m\u001b[1;33m\u001b[0m\u001b[1;33m\u001b[0m\u001b[0m\n\u001b[0m\u001b[0;32m   1356\u001b[0m \u001b[1;33m\u001b[0m\u001b[0m\n",
      "\u001b[1;31mRuntimeError\u001b[0m: Error opening 'E:/ChanuThesis/Raw sounds/Chimps_september/test_cases/test_cases_10.wav': System error.",
      "\nDuring handling of the above exception, another exception occurred:\n",
      "\u001b[1;31mFileNotFoundError\u001b[0m                         Traceback (most recent call last)",
      "\u001b[1;32m<ipython-input-21-f132f3942afc>\u001b[0m in \u001b[0;36m<module>\u001b[1;34m\u001b[0m\n\u001b[0;32m      2\u001b[0m     \u001b[0mk\u001b[0m \u001b[1;33m=\u001b[0m \u001b[1;34m\"E:/ChanuThesis/Raw sounds/Chimps_september/test_cases/test_cases_{}.wav\"\u001b[0m\u001b[1;33m.\u001b[0m\u001b[0mformat\u001b[0m\u001b[1;33m(\u001b[0m\u001b[0mi\u001b[0m\u001b[1;33m)\u001b[0m\u001b[1;33m\u001b[0m\u001b[1;33m\u001b[0m\u001b[0m\n\u001b[0;32m      3\u001b[0m \u001b[1;33m\u001b[0m\u001b[0m\n\u001b[1;32m----> 4\u001b[1;33m     \u001b[0minf\u001b[0m\u001b[1;33m=\u001b[0m\u001b[0mload_sound_files\u001b[0m\u001b[1;33m(\u001b[0m\u001b[0mk\u001b[0m\u001b[1;33m)\u001b[0m\u001b[1;33m\u001b[0m\u001b[1;33m\u001b[0m\u001b[0m\n\u001b[0m\u001b[0;32m      5\u001b[0m \u001b[1;33m\u001b[0m\u001b[0m\n\u001b[0;32m      6\u001b[0m     \u001b[0minf\u001b[0m \u001b[1;33m=\u001b[0m \u001b[0mnp\u001b[0m\u001b[1;33m.\u001b[0m\u001b[0marray\u001b[0m\u001b[1;33m(\u001b[0m\u001b[0minf\u001b[0m\u001b[1;33m)\u001b[0m\u001b[1;33m.\u001b[0m\u001b[0mreshape\u001b[0m\u001b[1;33m(\u001b[0m\u001b[1;36m1\u001b[0m\u001b[1;33m,\u001b[0m \u001b[1;36m40\u001b[0m\u001b[1;33m,\u001b[0m \u001b[1;36m87\u001b[0m\u001b[1;33m,\u001b[0m \u001b[1;36m1\u001b[0m\u001b[1;33m)\u001b[0m\u001b[1;33m\u001b[0m\u001b[1;33m\u001b[0m\u001b[0m\n",
      "\u001b[1;32m<ipython-input-19-d11746a13f6e>\u001b[0m in \u001b[0;36mload_sound_files\u001b[1;34m(file_paths)\u001b[0m\n\u001b[0;32m      1\u001b[0m \u001b[1;32mdef\u001b[0m \u001b[0mload_sound_files\u001b[0m\u001b[1;33m(\u001b[0m\u001b[0mfile_paths\u001b[0m\u001b[1;33m)\u001b[0m\u001b[1;33m:\u001b[0m\u001b[1;33m\u001b[0m\u001b[1;33m\u001b[0m\u001b[0m\n\u001b[0;32m      2\u001b[0m \u001b[1;33m\u001b[0m\u001b[0m\n\u001b[1;32m----> 3\u001b[1;33m     \u001b[0mX\u001b[0m\u001b[1;33m,\u001b[0m\u001b[0msr\u001b[0m \u001b[1;33m=\u001b[0m \u001b[0mlibrosa\u001b[0m\u001b[1;33m.\u001b[0m\u001b[0mload\u001b[0m\u001b[1;33m(\u001b[0m\u001b[0mfile_paths\u001b[0m\u001b[1;33m,\u001b[0m \u001b[0msr\u001b[0m\u001b[1;33m=\u001b[0m\u001b[1;36m11025\u001b[0m\u001b[1;33m)\u001b[0m\u001b[1;33m\u001b[0m\u001b[1;33m\u001b[0m\u001b[0m\n\u001b[0m\u001b[0;32m      4\u001b[0m     \u001b[1;31m#, res_type='kaiser_fast'\u001b[0m\u001b[1;33m\u001b[0m\u001b[1;33m\u001b[0m\u001b[1;33m\u001b[0m\u001b[0m\n\u001b[0;32m      5\u001b[0m     \u001b[1;31m#mfccs=np.mean(librosa.feature.mfcc(y=X,sr=sr,n_mfcc=40).T,axis=0)\u001b[0m\u001b[1;33m\u001b[0m\u001b[1;33m\u001b[0m\u001b[1;33m\u001b[0m\u001b[0m\n",
      "\u001b[1;32md:\\installfiles\\python\\python37\\lib\\site-packages\\librosa\\core\\audio.py\u001b[0m in \u001b[0;36mload\u001b[1;34m(path, sr, mono, offset, duration, dtype, res_type)\u001b[0m\n\u001b[0;32m    140\u001b[0m     \u001b[1;32mexcept\u001b[0m \u001b[0mRuntimeError\u001b[0m \u001b[1;32mas\u001b[0m \u001b[0mexc\u001b[0m\u001b[1;33m:\u001b[0m\u001b[1;33m\u001b[0m\u001b[1;33m\u001b[0m\u001b[0m\n\u001b[0;32m    141\u001b[0m         \u001b[1;31m# If soundfile failed, fall back to the audioread loader\u001b[0m\u001b[1;33m\u001b[0m\u001b[1;33m\u001b[0m\u001b[1;33m\u001b[0m\u001b[0m\n\u001b[1;32m--> 142\u001b[1;33m         \u001b[0my\u001b[0m\u001b[1;33m,\u001b[0m \u001b[0msr_native\u001b[0m \u001b[1;33m=\u001b[0m \u001b[0m__audioread_load\u001b[0m\u001b[1;33m(\u001b[0m\u001b[0mpath\u001b[0m\u001b[1;33m,\u001b[0m \u001b[0moffset\u001b[0m\u001b[1;33m,\u001b[0m \u001b[0mduration\u001b[0m\u001b[1;33m,\u001b[0m \u001b[0mdtype\u001b[0m\u001b[1;33m)\u001b[0m\u001b[1;33m\u001b[0m\u001b[1;33m\u001b[0m\u001b[0m\n\u001b[0m\u001b[0;32m    143\u001b[0m \u001b[1;33m\u001b[0m\u001b[0m\n\u001b[0;32m    144\u001b[0m     \u001b[1;31m# Final cleanup for dtype and contiguity\u001b[0m\u001b[1;33m\u001b[0m\u001b[1;33m\u001b[0m\u001b[1;33m\u001b[0m\u001b[0m\n",
      "\u001b[1;32md:\\installfiles\\python\\python37\\lib\\site-packages\\librosa\\core\\audio.py\u001b[0m in \u001b[0;36m__audioread_load\u001b[1;34m(path, offset, duration, dtype)\u001b[0m\n\u001b[0;32m    162\u001b[0m \u001b[1;33m\u001b[0m\u001b[0m\n\u001b[0;32m    163\u001b[0m     \u001b[0my\u001b[0m \u001b[1;33m=\u001b[0m \u001b[1;33m[\u001b[0m\u001b[1;33m]\u001b[0m\u001b[1;33m\u001b[0m\u001b[1;33m\u001b[0m\u001b[0m\n\u001b[1;32m--> 164\u001b[1;33m     \u001b[1;32mwith\u001b[0m \u001b[0maudioread\u001b[0m\u001b[1;33m.\u001b[0m\u001b[0maudio_open\u001b[0m\u001b[1;33m(\u001b[0m\u001b[0mpath\u001b[0m\u001b[1;33m)\u001b[0m \u001b[1;32mas\u001b[0m \u001b[0minput_file\u001b[0m\u001b[1;33m:\u001b[0m\u001b[1;33m\u001b[0m\u001b[1;33m\u001b[0m\u001b[0m\n\u001b[0m\u001b[0;32m    165\u001b[0m         \u001b[0msr_native\u001b[0m \u001b[1;33m=\u001b[0m \u001b[0minput_file\u001b[0m\u001b[1;33m.\u001b[0m\u001b[0msamplerate\u001b[0m\u001b[1;33m\u001b[0m\u001b[1;33m\u001b[0m\u001b[0m\n\u001b[0;32m    166\u001b[0m         \u001b[0mn_channels\u001b[0m \u001b[1;33m=\u001b[0m \u001b[0minput_file\u001b[0m\u001b[1;33m.\u001b[0m\u001b[0mchannels\u001b[0m\u001b[1;33m\u001b[0m\u001b[1;33m\u001b[0m\u001b[0m\n",
      "\u001b[1;32md:\\installfiles\\python\\python37\\lib\\site-packages\\audioread\\__init__.py\u001b[0m in \u001b[0;36maudio_open\u001b[1;34m(path, backends)\u001b[0m\n\u001b[0;32m    109\u001b[0m     \u001b[1;32mfor\u001b[0m \u001b[0mBackendClass\u001b[0m \u001b[1;32min\u001b[0m \u001b[0mbackends\u001b[0m\u001b[1;33m:\u001b[0m\u001b[1;33m\u001b[0m\u001b[1;33m\u001b[0m\u001b[0m\n\u001b[0;32m    110\u001b[0m         \u001b[1;32mtry\u001b[0m\u001b[1;33m:\u001b[0m\u001b[1;33m\u001b[0m\u001b[1;33m\u001b[0m\u001b[0m\n\u001b[1;32m--> 111\u001b[1;33m             \u001b[1;32mreturn\u001b[0m \u001b[0mBackendClass\u001b[0m\u001b[1;33m(\u001b[0m\u001b[0mpath\u001b[0m\u001b[1;33m)\u001b[0m\u001b[1;33m\u001b[0m\u001b[1;33m\u001b[0m\u001b[0m\n\u001b[0m\u001b[0;32m    112\u001b[0m         \u001b[1;32mexcept\u001b[0m \u001b[0mDecodeError\u001b[0m\u001b[1;33m:\u001b[0m\u001b[1;33m\u001b[0m\u001b[1;33m\u001b[0m\u001b[0m\n\u001b[0;32m    113\u001b[0m             \u001b[1;32mpass\u001b[0m\u001b[1;33m\u001b[0m\u001b[1;33m\u001b[0m\u001b[0m\n",
      "\u001b[1;32md:\\installfiles\\python\\python37\\lib\\site-packages\\audioread\\rawread.py\u001b[0m in \u001b[0;36m__init__\u001b[1;34m(self, filename)\u001b[0m\n\u001b[0;32m     60\u001b[0m     \"\"\"\n\u001b[0;32m     61\u001b[0m     \u001b[1;32mdef\u001b[0m \u001b[0m__init__\u001b[0m\u001b[1;33m(\u001b[0m\u001b[0mself\u001b[0m\u001b[1;33m,\u001b[0m \u001b[0mfilename\u001b[0m\u001b[1;33m)\u001b[0m\u001b[1;33m:\u001b[0m\u001b[1;33m\u001b[0m\u001b[1;33m\u001b[0m\u001b[0m\n\u001b[1;32m---> 62\u001b[1;33m         \u001b[0mself\u001b[0m\u001b[1;33m.\u001b[0m\u001b[0m_fh\u001b[0m \u001b[1;33m=\u001b[0m \u001b[0mopen\u001b[0m\u001b[1;33m(\u001b[0m\u001b[0mfilename\u001b[0m\u001b[1;33m,\u001b[0m \u001b[1;34m'rb'\u001b[0m\u001b[1;33m)\u001b[0m\u001b[1;33m\u001b[0m\u001b[1;33m\u001b[0m\u001b[0m\n\u001b[0m\u001b[0;32m     63\u001b[0m \u001b[1;33m\u001b[0m\u001b[0m\n\u001b[0;32m     64\u001b[0m         \u001b[1;32mtry\u001b[0m\u001b[1;33m:\u001b[0m\u001b[1;33m\u001b[0m\u001b[1;33m\u001b[0m\u001b[0m\n",
      "\u001b[1;31mFileNotFoundError\u001b[0m: [Errno 2] No such file or directory: 'E:/ChanuThesis/Raw sounds/Chimps_september/test_cases/test_cases_10.wav'"
     ]
    }
   ],
   "source": [
    "for i in range(10,13):\n",
    "    k = \"E:/ChanuThesis/Raw sounds/Chimps_september/test_cases/test_cases_{}.wav\".format(i)\n",
    "\n",
    "    inf=load_sound_files(k)\n",
    "\n",
    "    inf = np.array(inf).reshape(1, 40, 87, 1)\n",
    "\n",
    "    inf_pred = model.predict_proba(np.array(inf))\n",
    "    print(i, model.predict_classes(np.array(inf)), max(inf_pred[0]))"
   ]
  },
  {
   "cell_type": "code",
   "execution_count": 100,
   "metadata": {},
   "outputs": [
    {
     "name": "stdout",
     "output_type": "stream",
     "text": [
      "1 [10] 0.7337323\n",
      "2 [10] 0.94153047\n",
      "3 [10] 0.9928745\n",
      "4 [10] 0.90028596\n",
      "5 [10] 0.9202469\n",
      "6 [10] 0.7960305\n",
      "7 [10] 0.8904671\n",
      "8 [10] 0.7011273\n",
      "9 [11] 0.54133385\n"
     ]
    }
   ],
   "source": [
    "for i in range(1,10):\n",
    "    k = \"E:/ChanuThesis/Raw sounds/Chimps_september/test_cases/test_cases_ ({}).wav\".format(i)\n",
    "\n",
    "    inf=load_sound_files(k)\n",
    "\n",
    "    inf = np.array(inf).reshape(1, 40, 87, 1)\n",
    "\n",
    "    inf_pred = model.predict_proba(np.array(inf))\n",
    "    print(i, model.predict_classes(np.array(inf)), max(inf_pred[0]))"
   ]
  },
  {
   "cell_type": "code",
   "execution_count": null,
   "metadata": {},
   "outputs": [],
   "source": []
  },
  {
   "cell_type": "code",
   "execution_count": null,
   "metadata": {},
   "outputs": [],
   "source": []
  }
 ],
 "metadata": {
  "kernelspec": {
   "display_name": "Python 3",
   "language": "python",
   "name": "python3"
  },
  "language_info": {
   "codemirror_mode": {
    "name": "ipython",
    "version": 3
   },
   "file_extension": ".py",
   "mimetype": "text/x-python",
   "name": "python",
   "nbconvert_exporter": "python",
   "pygments_lexer": "ipython3",
   "version": "3.7.2"
  }
 },
 "nbformat": 4,
 "nbformat_minor": 2
}
